{
  "nbformat": 4,
  "nbformat_minor": 0,
  "metadata": {
    "colab": {
      "provenance": [],
      "mount_file_id": "1qjCUK5icen8_8Fadfj31d1ooWZq-NYBn",
      "authorship_tag": "ABX9TyPvfM0t6TldnIXcxpVTtF85",
      "include_colab_link": true
    },
    "kernelspec": {
      "name": "python3",
      "display_name": "Python 3"
    },
    "language_info": {
      "name": "python"
    },
    "widgets": {
      "application/vnd.jupyter.widget-state+json": {
        "28a55ee949784bd1828792887cded767": {
          "model_module": "@jupyter-widgets/controls",
          "model_name": "HBoxModel",
          "model_module_version": "1.5.0",
          "state": {
            "_dom_classes": [],
            "_model_module": "@jupyter-widgets/controls",
            "_model_module_version": "1.5.0",
            "_model_name": "HBoxModel",
            "_view_count": null,
            "_view_module": "@jupyter-widgets/controls",
            "_view_module_version": "1.5.0",
            "_view_name": "HBoxView",
            "box_style": "",
            "children": [
              "IPY_MODEL_b35089ca031444ad9035391945dd4823",
              "IPY_MODEL_590a2f638ee2441da6965b50eb79d3db",
              "IPY_MODEL_678c164229794a128743bc2cf8932e85"
            ],
            "layout": "IPY_MODEL_a3bb0dcbdc4d49c7b1414c6a95e7afae"
          }
        },
        "b35089ca031444ad9035391945dd4823": {
          "model_module": "@jupyter-widgets/controls",
          "model_name": "HTMLModel",
          "model_module_version": "1.5.0",
          "state": {
            "_dom_classes": [],
            "_model_module": "@jupyter-widgets/controls",
            "_model_module_version": "1.5.0",
            "_model_name": "HTMLModel",
            "_view_count": null,
            "_view_module": "@jupyter-widgets/controls",
            "_view_module_version": "1.5.0",
            "_view_name": "HTMLView",
            "description": "",
            "description_tooltip": null,
            "layout": "IPY_MODEL_81bf5576888e4394ab0c8e1fbd0f660d",
            "placeholder": "​",
            "style": "IPY_MODEL_fcb8e5c3baeb4cdd80bfd0043515de16",
            "value": "Processing: 100%"
          }
        },
        "590a2f638ee2441da6965b50eb79d3db": {
          "model_module": "@jupyter-widgets/controls",
          "model_name": "FloatProgressModel",
          "model_module_version": "1.5.0",
          "state": {
            "_dom_classes": [],
            "_model_module": "@jupyter-widgets/controls",
            "_model_module_version": "1.5.0",
            "_model_name": "FloatProgressModel",
            "_view_count": null,
            "_view_module": "@jupyter-widgets/controls",
            "_view_module_version": "1.5.0",
            "_view_name": "ProgressView",
            "bar_style": "",
            "description": "",
            "description_tooltip": null,
            "layout": "IPY_MODEL_fa5cc8fb3c654cfab1ba14bf528a286b",
            "max": 81,
            "min": 0,
            "orientation": "horizontal",
            "style": "IPY_MODEL_a01f50f011ab48c69ed76c0472655a4b",
            "value": 81
          }
        },
        "678c164229794a128743bc2cf8932e85": {
          "model_module": "@jupyter-widgets/controls",
          "model_name": "HTMLModel",
          "model_module_version": "1.5.0",
          "state": {
            "_dom_classes": [],
            "_model_module": "@jupyter-widgets/controls",
            "_model_module_version": "1.5.0",
            "_model_name": "HTMLModel",
            "_view_count": null,
            "_view_module": "@jupyter-widgets/controls",
            "_view_module_version": "1.5.0",
            "_view_name": "HTMLView",
            "description": "",
            "description_tooltip": null,
            "layout": "IPY_MODEL_ec8c2401f20047cca50282b87dbc95cb",
            "placeholder": "​",
            "style": "IPY_MODEL_f81a93f6024e4c8da0b15fd27c7ce9d1",
            "value": " 81/81 [13:55&lt;00:00,  6.62s/it]"
          }
        },
        "a3bb0dcbdc4d49c7b1414c6a95e7afae": {
          "model_module": "@jupyter-widgets/base",
          "model_name": "LayoutModel",
          "model_module_version": "1.2.0",
          "state": {
            "_model_module": "@jupyter-widgets/base",
            "_model_module_version": "1.2.0",
            "_model_name": "LayoutModel",
            "_view_count": null,
            "_view_module": "@jupyter-widgets/base",
            "_view_module_version": "1.2.0",
            "_view_name": "LayoutView",
            "align_content": null,
            "align_items": null,
            "align_self": null,
            "border": null,
            "bottom": null,
            "display": null,
            "flex": null,
            "flex_flow": null,
            "grid_area": null,
            "grid_auto_columns": null,
            "grid_auto_flow": null,
            "grid_auto_rows": null,
            "grid_column": null,
            "grid_gap": null,
            "grid_row": null,
            "grid_template_areas": null,
            "grid_template_columns": null,
            "grid_template_rows": null,
            "height": null,
            "justify_content": null,
            "justify_items": null,
            "left": null,
            "margin": null,
            "max_height": null,
            "max_width": null,
            "min_height": null,
            "min_width": null,
            "object_fit": null,
            "object_position": null,
            "order": null,
            "overflow": null,
            "overflow_x": null,
            "overflow_y": null,
            "padding": null,
            "right": null,
            "top": null,
            "visibility": "hidden",
            "width": null
          }
        },
        "81bf5576888e4394ab0c8e1fbd0f660d": {
          "model_module": "@jupyter-widgets/base",
          "model_name": "LayoutModel",
          "model_module_version": "1.2.0",
          "state": {
            "_model_module": "@jupyter-widgets/base",
            "_model_module_version": "1.2.0",
            "_model_name": "LayoutModel",
            "_view_count": null,
            "_view_module": "@jupyter-widgets/base",
            "_view_module_version": "1.2.0",
            "_view_name": "LayoutView",
            "align_content": null,
            "align_items": null,
            "align_self": null,
            "border": null,
            "bottom": null,
            "display": null,
            "flex": null,
            "flex_flow": null,
            "grid_area": null,
            "grid_auto_columns": null,
            "grid_auto_flow": null,
            "grid_auto_rows": null,
            "grid_column": null,
            "grid_gap": null,
            "grid_row": null,
            "grid_template_areas": null,
            "grid_template_columns": null,
            "grid_template_rows": null,
            "height": null,
            "justify_content": null,
            "justify_items": null,
            "left": null,
            "margin": null,
            "max_height": null,
            "max_width": null,
            "min_height": null,
            "min_width": null,
            "object_fit": null,
            "object_position": null,
            "order": null,
            "overflow": null,
            "overflow_x": null,
            "overflow_y": null,
            "padding": null,
            "right": null,
            "top": null,
            "visibility": null,
            "width": null
          }
        },
        "fcb8e5c3baeb4cdd80bfd0043515de16": {
          "model_module": "@jupyter-widgets/controls",
          "model_name": "DescriptionStyleModel",
          "model_module_version": "1.5.0",
          "state": {
            "_model_module": "@jupyter-widgets/controls",
            "_model_module_version": "1.5.0",
            "_model_name": "DescriptionStyleModel",
            "_view_count": null,
            "_view_module": "@jupyter-widgets/base",
            "_view_module_version": "1.2.0",
            "_view_name": "StyleView",
            "description_width": ""
          }
        },
        "fa5cc8fb3c654cfab1ba14bf528a286b": {
          "model_module": "@jupyter-widgets/base",
          "model_name": "LayoutModel",
          "model_module_version": "1.2.0",
          "state": {
            "_model_module": "@jupyter-widgets/base",
            "_model_module_version": "1.2.0",
            "_model_name": "LayoutModel",
            "_view_count": null,
            "_view_module": "@jupyter-widgets/base",
            "_view_module_version": "1.2.0",
            "_view_name": "LayoutView",
            "align_content": null,
            "align_items": null,
            "align_self": null,
            "border": null,
            "bottom": null,
            "display": null,
            "flex": null,
            "flex_flow": null,
            "grid_area": null,
            "grid_auto_columns": null,
            "grid_auto_flow": null,
            "grid_auto_rows": null,
            "grid_column": null,
            "grid_gap": null,
            "grid_row": null,
            "grid_template_areas": null,
            "grid_template_columns": null,
            "grid_template_rows": null,
            "height": null,
            "justify_content": null,
            "justify_items": null,
            "left": null,
            "margin": null,
            "max_height": null,
            "max_width": null,
            "min_height": null,
            "min_width": null,
            "object_fit": null,
            "object_position": null,
            "order": null,
            "overflow": null,
            "overflow_x": null,
            "overflow_y": null,
            "padding": null,
            "right": null,
            "top": null,
            "visibility": null,
            "width": null
          }
        },
        "a01f50f011ab48c69ed76c0472655a4b": {
          "model_module": "@jupyter-widgets/controls",
          "model_name": "ProgressStyleModel",
          "model_module_version": "1.5.0",
          "state": {
            "_model_module": "@jupyter-widgets/controls",
            "_model_module_version": "1.5.0",
            "_model_name": "ProgressStyleModel",
            "_view_count": null,
            "_view_module": "@jupyter-widgets/base",
            "_view_module_version": "1.2.0",
            "_view_name": "StyleView",
            "bar_color": null,
            "description_width": ""
          }
        },
        "ec8c2401f20047cca50282b87dbc95cb": {
          "model_module": "@jupyter-widgets/base",
          "model_name": "LayoutModel",
          "model_module_version": "1.2.0",
          "state": {
            "_model_module": "@jupyter-widgets/base",
            "_model_module_version": "1.2.0",
            "_model_name": "LayoutModel",
            "_view_count": null,
            "_view_module": "@jupyter-widgets/base",
            "_view_module_version": "1.2.0",
            "_view_name": "LayoutView",
            "align_content": null,
            "align_items": null,
            "align_self": null,
            "border": null,
            "bottom": null,
            "display": null,
            "flex": null,
            "flex_flow": null,
            "grid_area": null,
            "grid_auto_columns": null,
            "grid_auto_flow": null,
            "grid_auto_rows": null,
            "grid_column": null,
            "grid_gap": null,
            "grid_row": null,
            "grid_template_areas": null,
            "grid_template_columns": null,
            "grid_template_rows": null,
            "height": null,
            "justify_content": null,
            "justify_items": null,
            "left": null,
            "margin": null,
            "max_height": null,
            "max_width": null,
            "min_height": null,
            "min_width": null,
            "object_fit": null,
            "object_position": null,
            "order": null,
            "overflow": null,
            "overflow_x": null,
            "overflow_y": null,
            "padding": null,
            "right": null,
            "top": null,
            "visibility": null,
            "width": null
          }
        },
        "f81a93f6024e4c8da0b15fd27c7ce9d1": {
          "model_module": "@jupyter-widgets/controls",
          "model_name": "DescriptionStyleModel",
          "model_module_version": "1.5.0",
          "state": {
            "_model_module": "@jupyter-widgets/controls",
            "_model_module_version": "1.5.0",
            "_model_name": "DescriptionStyleModel",
            "_view_count": null,
            "_view_module": "@jupyter-widgets/base",
            "_view_module_version": "1.2.0",
            "_view_name": "StyleView",
            "description_width": ""
          }
        }
      }
    }
  },
  "cells": [
    {
      "cell_type": "markdown",
      "metadata": {
        "id": "view-in-github",
        "colab_type": "text"
      },
      "source": [
        "<a href=\"https://colab.research.google.com/github/farieu/data-analysis/blob/OutrosModelos/ModelosAdicionais(ADABoost).ipynb\" target=\"_parent\"><img src=\"https://colab.research.google.com/assets/colab-badge.svg\" alt=\"Open In Colab\"/></a>"
      ]
    },
    {
      "cell_type": "markdown",
      "source": [
        "### Utilização da biblioteca Pycaret para analisar modelos"
      ],
      "metadata": {
        "id": "5F2o-309YR_G"
      }
    },
    {
      "cell_type": "markdown",
      "source": [
        "#### Instalando a biblioteca"
      ],
      "metadata": {
        "id": "uDtDKvXVYaGb"
      }
    },
    {
      "cell_type": "code",
      "execution_count": null,
      "metadata": {
        "collapsed": true,
        "id": "C0MYvC3pQnIh"
      },
      "outputs": [],
      "source": [
        "!pip install pycaret"
      ]
    },
    {
      "cell_type": "markdown",
      "source": [
        "#### Importação, setup e avaliação de modelos"
      ],
      "metadata": {
        "id": "G_OkhSTtYfaY"
      }
    },
    {
      "cell_type": "code",
      "source": [
        "import pandas as pd\n",
        "from pycaret.regression import *"
      ],
      "metadata": {
        "id": "KTbhe7JwSEWb"
      },
      "execution_count": null,
      "outputs": []
    },
    {
      "cell_type": "markdown",
      "source": [
        "Primeiro está sendo testado o setup para o dataset já tratado e sem inputs, passando como parâmetro o que desejamos avaliar."
      ],
      "metadata": {
        "id": "2MgvG9OUYkr_"
      }
    },
    {
      "cell_type": "code",
      "source": [
        "df = pd.read_csv('/content/drive/MyDrive/BackEnd/GoodReads_cleanedwoImput.csv')\n",
        "df.shape"
      ],
      "metadata": {
        "colab": {
          "base_uri": "https://localhost:8080/"
        },
        "id": "_LKUtDg3Rs0S",
        "outputId": "0e3933e8-e447-42e5-a18c-5d6cf6912a0d"
      },
      "execution_count": null,
      "outputs": [
        {
          "output_type": "execute_result",
          "data": {
            "text/plain": [
              "(84054, 9)"
            ]
          },
          "metadata": {},
          "execution_count": 6
        }
      ]
    },
    {
      "cell_type": "code",
      "source": [
        "rg_setup = setup(df, target='rating')"
      ],
      "metadata": {
        "colab": {
          "base_uri": "https://localhost:8080/",
          "height": 1000
        },
        "id": "d8kIGW61So3p",
        "outputId": "65472f2a-7b5c-4b16-f912-c626c35788a5"
      },
      "execution_count": null,
      "outputs": [
        {
          "output_type": "stream",
          "name": "stderr",
          "text": [
            "/usr/local/lib/python3.10/dist-packages/pycaret/internal/pipeline.py:249: UserWarning: Persisting input arguments took 0.69s to run.If this happens often in your code, it can cause performance problems (results will be correct in all cases). The reason for this is probably some large input arguments for a wrapped function.\n",
            "  fitted_transformer = self._memory_fit(\n",
            "/usr/local/lib/python3.10/dist-packages/pycaret/internal/pipeline.py:256: UserWarning: Persisting input arguments took 0.67s to run.If this happens often in your code, it can cause performance problems (results will be correct in all cases). The reason for this is probably some large input arguments for a wrapped function.\n",
            "  X, y = self._memory_transform(\n",
            "/usr/local/lib/python3.10/dist-packages/pycaret/internal/pipeline.py:278: UserWarning: Persisting input arguments took 1.56s to run.If this happens often in your code, it can cause performance problems (results will be correct in all cases). The reason for this is probably some large input arguments for a wrapped function.\n",
            "  fitted_estimator = self._memory_fit(\n",
            "/usr/local/lib/python3.10/dist-packages/pycaret/internal/pipeline.py:111: UserWarning: Persisting input arguments took 1.31s to run.If this happens often in your code, it can cause performance problems (results will be correct in all cases). The reason for this is probably some large input arguments for a wrapped function.\n",
            "  X, y = pipeline._memory_transform(transformer, X, y)\n",
            "/usr/local/lib/python3.10/dist-packages/pycaret/internal/pipeline.py:289: UserWarning: Persisting input arguments took 1.55s to run.If this happens often in your code, it can cause performance problems (results will be correct in all cases). The reason for this is probably some large input arguments for a wrapped function.\n",
            "  X, y = self._memory_full_transform(\n",
            "/usr/local/lib/python3.10/dist-packages/pycaret/internal/pipeline.py:111: UserWarning: Persisting input arguments took 0.83s to run.If this happens often in your code, it can cause performance problems (results will be correct in all cases). The reason for this is probably some large input arguments for a wrapped function.\n",
            "  X, y = pipeline._memory_transform(transformer, X, y)\n",
            "/usr/local/lib/python3.10/dist-packages/pycaret/internal/pipeline.py:289: UserWarning: Persisting input arguments took 1.75s to run.If this happens often in your code, it can cause performance problems (results will be correct in all cases). The reason for this is probably some large input arguments for a wrapped function.\n",
            "  X, y = self._memory_full_transform(\n"
          ]
        },
        {
          "output_type": "display_data",
          "data": {
            "text/plain": [
              "<pandas.io.formats.style.Styler at 0x78627ae1e650>"
            ],
            "text/html": [
              "<style type=\"text/css\">\n",
              "#T_0f566_row9_col1 {\n",
              "  background-color: lightgreen;\n",
              "}\n",
              "</style>\n",
              "<table id=\"T_0f566\" class=\"dataframe\">\n",
              "  <thead>\n",
              "    <tr>\n",
              "      <th class=\"blank level0\" >&nbsp;</th>\n",
              "      <th id=\"T_0f566_level0_col0\" class=\"col_heading level0 col0\" >Description</th>\n",
              "      <th id=\"T_0f566_level0_col1\" class=\"col_heading level0 col1\" >Value</th>\n",
              "    </tr>\n",
              "  </thead>\n",
              "  <tbody>\n",
              "    <tr>\n",
              "      <th id=\"T_0f566_level0_row0\" class=\"row_heading level0 row0\" >0</th>\n",
              "      <td id=\"T_0f566_row0_col0\" class=\"data row0 col0\" >Session id</td>\n",
              "      <td id=\"T_0f566_row0_col1\" class=\"data row0 col1\" >8592</td>\n",
              "    </tr>\n",
              "    <tr>\n",
              "      <th id=\"T_0f566_level0_row1\" class=\"row_heading level0 row1\" >1</th>\n",
              "      <td id=\"T_0f566_row1_col0\" class=\"data row1 col0\" >Target</td>\n",
              "      <td id=\"T_0f566_row1_col1\" class=\"data row1 col1\" >rating</td>\n",
              "    </tr>\n",
              "    <tr>\n",
              "      <th id=\"T_0f566_level0_row2\" class=\"row_heading level0 row2\" >2</th>\n",
              "      <td id=\"T_0f566_row2_col0\" class=\"data row2 col0\" >Target type</td>\n",
              "      <td id=\"T_0f566_row2_col1\" class=\"data row2 col1\" >Regression</td>\n",
              "    </tr>\n",
              "    <tr>\n",
              "      <th id=\"T_0f566_level0_row3\" class=\"row_heading level0 row3\" >3</th>\n",
              "      <td id=\"T_0f566_row3_col0\" class=\"data row3 col0\" >Original data shape</td>\n",
              "      <td id=\"T_0f566_row3_col1\" class=\"data row3 col1\" >(84054, 9)</td>\n",
              "    </tr>\n",
              "    <tr>\n",
              "      <th id=\"T_0f566_level0_row4\" class=\"row_heading level0 row4\" >4</th>\n",
              "      <td id=\"T_0f566_row4_col0\" class=\"data row4 col0\" >Transformed data shape</td>\n",
              "      <td id=\"T_0f566_row4_col1\" class=\"data row4 col1\" >(84054, 9)</td>\n",
              "    </tr>\n",
              "    <tr>\n",
              "      <th id=\"T_0f566_level0_row5\" class=\"row_heading level0 row5\" >5</th>\n",
              "      <td id=\"T_0f566_row5_col0\" class=\"data row5 col0\" >Transformed train set shape</td>\n",
              "      <td id=\"T_0f566_row5_col1\" class=\"data row5 col1\" >(58837, 9)</td>\n",
              "    </tr>\n",
              "    <tr>\n",
              "      <th id=\"T_0f566_level0_row6\" class=\"row_heading level0 row6\" >6</th>\n",
              "      <td id=\"T_0f566_row6_col0\" class=\"data row6 col0\" >Transformed test set shape</td>\n",
              "      <td id=\"T_0f566_row6_col1\" class=\"data row6 col1\" >(25217, 9)</td>\n",
              "    </tr>\n",
              "    <tr>\n",
              "      <th id=\"T_0f566_level0_row7\" class=\"row_heading level0 row7\" >7</th>\n",
              "      <td id=\"T_0f566_row7_col0\" class=\"data row7 col0\" >Numeric features</td>\n",
              "      <td id=\"T_0f566_row7_col1\" class=\"data row7 col1\" >3</td>\n",
              "    </tr>\n",
              "    <tr>\n",
              "      <th id=\"T_0f566_level0_row8\" class=\"row_heading level0 row8\" >8</th>\n",
              "      <td id=\"T_0f566_row8_col0\" class=\"data row8 col0\" >Categorical features</td>\n",
              "      <td id=\"T_0f566_row8_col1\" class=\"data row8 col1\" >5</td>\n",
              "    </tr>\n",
              "    <tr>\n",
              "      <th id=\"T_0f566_level0_row9\" class=\"row_heading level0 row9\" >9</th>\n",
              "      <td id=\"T_0f566_row9_col0\" class=\"data row9 col0\" >Preprocess</td>\n",
              "      <td id=\"T_0f566_row9_col1\" class=\"data row9 col1\" >True</td>\n",
              "    </tr>\n",
              "    <tr>\n",
              "      <th id=\"T_0f566_level0_row10\" class=\"row_heading level0 row10\" >10</th>\n",
              "      <td id=\"T_0f566_row10_col0\" class=\"data row10 col0\" >Imputation type</td>\n",
              "      <td id=\"T_0f566_row10_col1\" class=\"data row10 col1\" >simple</td>\n",
              "    </tr>\n",
              "    <tr>\n",
              "      <th id=\"T_0f566_level0_row11\" class=\"row_heading level0 row11\" >11</th>\n",
              "      <td id=\"T_0f566_row11_col0\" class=\"data row11 col0\" >Numeric imputation</td>\n",
              "      <td id=\"T_0f566_row11_col1\" class=\"data row11 col1\" >mean</td>\n",
              "    </tr>\n",
              "    <tr>\n",
              "      <th id=\"T_0f566_level0_row12\" class=\"row_heading level0 row12\" >12</th>\n",
              "      <td id=\"T_0f566_row12_col0\" class=\"data row12 col0\" >Categorical imputation</td>\n",
              "      <td id=\"T_0f566_row12_col1\" class=\"data row12 col1\" >mode</td>\n",
              "    </tr>\n",
              "    <tr>\n",
              "      <th id=\"T_0f566_level0_row13\" class=\"row_heading level0 row13\" >13</th>\n",
              "      <td id=\"T_0f566_row13_col0\" class=\"data row13 col0\" >Maximum one-hot encoding</td>\n",
              "      <td id=\"T_0f566_row13_col1\" class=\"data row13 col1\" >25</td>\n",
              "    </tr>\n",
              "    <tr>\n",
              "      <th id=\"T_0f566_level0_row14\" class=\"row_heading level0 row14\" >14</th>\n",
              "      <td id=\"T_0f566_row14_col0\" class=\"data row14 col0\" >Encoding method</td>\n",
              "      <td id=\"T_0f566_row14_col1\" class=\"data row14 col1\" >None</td>\n",
              "    </tr>\n",
              "    <tr>\n",
              "      <th id=\"T_0f566_level0_row15\" class=\"row_heading level0 row15\" >15</th>\n",
              "      <td id=\"T_0f566_row15_col0\" class=\"data row15 col0\" >Fold Generator</td>\n",
              "      <td id=\"T_0f566_row15_col1\" class=\"data row15 col1\" >KFold</td>\n",
              "    </tr>\n",
              "    <tr>\n",
              "      <th id=\"T_0f566_level0_row16\" class=\"row_heading level0 row16\" >16</th>\n",
              "      <td id=\"T_0f566_row16_col0\" class=\"data row16 col0\" >Fold Number</td>\n",
              "      <td id=\"T_0f566_row16_col1\" class=\"data row16 col1\" >10</td>\n",
              "    </tr>\n",
              "    <tr>\n",
              "      <th id=\"T_0f566_level0_row17\" class=\"row_heading level0 row17\" >17</th>\n",
              "      <td id=\"T_0f566_row17_col0\" class=\"data row17 col0\" >CPU Jobs</td>\n",
              "      <td id=\"T_0f566_row17_col1\" class=\"data row17 col1\" >-1</td>\n",
              "    </tr>\n",
              "    <tr>\n",
              "      <th id=\"T_0f566_level0_row18\" class=\"row_heading level0 row18\" >18</th>\n",
              "      <td id=\"T_0f566_row18_col0\" class=\"data row18 col0\" >Use GPU</td>\n",
              "      <td id=\"T_0f566_row18_col1\" class=\"data row18 col1\" >False</td>\n",
              "    </tr>\n",
              "    <tr>\n",
              "      <th id=\"T_0f566_level0_row19\" class=\"row_heading level0 row19\" >19</th>\n",
              "      <td id=\"T_0f566_row19_col0\" class=\"data row19 col0\" >Log Experiment</td>\n",
              "      <td id=\"T_0f566_row19_col1\" class=\"data row19 col1\" >False</td>\n",
              "    </tr>\n",
              "    <tr>\n",
              "      <th id=\"T_0f566_level0_row20\" class=\"row_heading level0 row20\" >20</th>\n",
              "      <td id=\"T_0f566_row20_col0\" class=\"data row20 col0\" >Experiment Name</td>\n",
              "      <td id=\"T_0f566_row20_col1\" class=\"data row20 col1\" >reg-default-name</td>\n",
              "    </tr>\n",
              "    <tr>\n",
              "      <th id=\"T_0f566_level0_row21\" class=\"row_heading level0 row21\" >21</th>\n",
              "      <td id=\"T_0f566_row21_col0\" class=\"data row21 col0\" >USI</td>\n",
              "      <td id=\"T_0f566_row21_col1\" class=\"data row21 col1\" >0bb9</td>\n",
              "    </tr>\n",
              "  </tbody>\n",
              "</table>\n"
            ]
          },
          "metadata": {}
        }
      ]
    },
    {
      "cell_type": "code",
      "source": [
        "compare_models()"
      ],
      "metadata": {
        "colab": {
          "base_uri": "https://localhost:8080/",
          "height": 781,
          "referenced_widgets": [
            "28a55ee949784bd1828792887cded767",
            "b35089ca031444ad9035391945dd4823",
            "590a2f638ee2441da6965b50eb79d3db",
            "678c164229794a128743bc2cf8932e85",
            "a3bb0dcbdc4d49c7b1414c6a95e7afae",
            "81bf5576888e4394ab0c8e1fbd0f660d",
            "fcb8e5c3baeb4cdd80bfd0043515de16",
            "fa5cc8fb3c654cfab1ba14bf528a286b",
            "a01f50f011ab48c69ed76c0472655a4b",
            "ec8c2401f20047cca50282b87dbc95cb",
            "f81a93f6024e4c8da0b15fd27c7ce9d1"
          ]
        },
        "id": "gagulielSmmk",
        "outputId": "9491eccc-5f5f-407f-a8f0-ea83aeac4630"
      },
      "execution_count": null,
      "outputs": [
        {
          "output_type": "display_data",
          "data": {
            "text/plain": [
              "<IPython.core.display.HTML object>"
            ],
            "text/html": []
          },
          "metadata": {}
        },
        {
          "output_type": "display_data",
          "data": {
            "text/plain": [
              "<pandas.io.formats.style.Styler at 0x78627a591630>"
            ],
            "text/html": [
              "<style type=\"text/css\">\n",
              "#T_06953 th {\n",
              "  text-align: left;\n",
              "}\n",
              "#T_06953_row0_col0, #T_06953_row0_col5, #T_06953_row1_col0, #T_06953_row1_col1, #T_06953_row1_col2, #T_06953_row1_col3, #T_06953_row1_col4, #T_06953_row1_col5, #T_06953_row1_col6, #T_06953_row2_col0, #T_06953_row2_col1, #T_06953_row2_col2, #T_06953_row2_col3, #T_06953_row2_col4, #T_06953_row2_col5, #T_06953_row2_col6, #T_06953_row3_col0, #T_06953_row3_col1, #T_06953_row3_col2, #T_06953_row3_col3, #T_06953_row3_col4, #T_06953_row3_col5, #T_06953_row3_col6, #T_06953_row4_col0, #T_06953_row4_col1, #T_06953_row4_col2, #T_06953_row4_col3, #T_06953_row4_col4, #T_06953_row4_col5, #T_06953_row4_col6, #T_06953_row5_col0, #T_06953_row5_col1, #T_06953_row5_col2, #T_06953_row5_col3, #T_06953_row5_col4, #T_06953_row5_col5, #T_06953_row5_col6, #T_06953_row6_col0, #T_06953_row6_col1, #T_06953_row6_col2, #T_06953_row6_col3, #T_06953_row6_col4, #T_06953_row6_col5, #T_06953_row6_col6, #T_06953_row7_col0, #T_06953_row7_col1, #T_06953_row7_col2, #T_06953_row7_col3, #T_06953_row7_col4, #T_06953_row7_col5, #T_06953_row7_col6, #T_06953_row8_col0, #T_06953_row8_col1, #T_06953_row8_col2, #T_06953_row8_col3, #T_06953_row8_col4, #T_06953_row8_col5, #T_06953_row8_col6, #T_06953_row9_col0, #T_06953_row9_col1, #T_06953_row9_col2, #T_06953_row9_col3, #T_06953_row9_col4, #T_06953_row9_col5, #T_06953_row9_col6, #T_06953_row10_col0, #T_06953_row10_col1, #T_06953_row10_col2, #T_06953_row10_col3, #T_06953_row10_col4, #T_06953_row10_col5, #T_06953_row10_col6, #T_06953_row11_col0, #T_06953_row11_col1, #T_06953_row11_col2, #T_06953_row11_col3, #T_06953_row11_col4, #T_06953_row11_col5, #T_06953_row11_col6, #T_06953_row12_col0, #T_06953_row12_col1, #T_06953_row12_col2, #T_06953_row12_col3, #T_06953_row12_col4, #T_06953_row12_col5, #T_06953_row12_col6, #T_06953_row13_col0, #T_06953_row13_col1, #T_06953_row13_col2, #T_06953_row13_col3, #T_06953_row13_col4, #T_06953_row13_col5, #T_06953_row13_col6, #T_06953_row14_col0, #T_06953_row14_col1, #T_06953_row14_col2, #T_06953_row14_col3, #T_06953_row14_col4, #T_06953_row14_col5, #T_06953_row14_col6, #T_06953_row15_col0, #T_06953_row15_col1, #T_06953_row15_col2, #T_06953_row15_col3, #T_06953_row15_col4, #T_06953_row15_col5, #T_06953_row15_col6, #T_06953_row16_col0, #T_06953_row16_col1, #T_06953_row16_col2, #T_06953_row16_col3, #T_06953_row16_col4, #T_06953_row16_col5, #T_06953_row16_col6, #T_06953_row17_col0, #T_06953_row17_col1, #T_06953_row17_col2, #T_06953_row17_col3, #T_06953_row17_col4, #T_06953_row17_col6, #T_06953_row18_col0, #T_06953_row18_col1, #T_06953_row18_col2, #T_06953_row18_col3, #T_06953_row18_col4, #T_06953_row18_col5, #T_06953_row18_col6 {\n",
              "  text-align: left;\n",
              "}\n",
              "#T_06953_row0_col1, #T_06953_row0_col2, #T_06953_row0_col3, #T_06953_row0_col4, #T_06953_row0_col6, #T_06953_row17_col5 {\n",
              "  text-align: left;\n",
              "  background-color: yellow;\n",
              "}\n",
              "#T_06953_row0_col7, #T_06953_row1_col7, #T_06953_row2_col7, #T_06953_row3_col7, #T_06953_row5_col7, #T_06953_row6_col7, #T_06953_row7_col7, #T_06953_row8_col7, #T_06953_row9_col7, #T_06953_row10_col7, #T_06953_row11_col7, #T_06953_row12_col7, #T_06953_row13_col7, #T_06953_row14_col7, #T_06953_row15_col7, #T_06953_row16_col7, #T_06953_row17_col7, #T_06953_row18_col7 {\n",
              "  text-align: left;\n",
              "  background-color: lightgrey;\n",
              "}\n",
              "#T_06953_row4_col7 {\n",
              "  text-align: left;\n",
              "  background-color: yellow;\n",
              "  background-color: lightgrey;\n",
              "}\n",
              "</style>\n",
              "<table id=\"T_06953\" class=\"dataframe\">\n",
              "  <thead>\n",
              "    <tr>\n",
              "      <th class=\"blank level0\" >&nbsp;</th>\n",
              "      <th id=\"T_06953_level0_col0\" class=\"col_heading level0 col0\" >Model</th>\n",
              "      <th id=\"T_06953_level0_col1\" class=\"col_heading level0 col1\" >MAE</th>\n",
              "      <th id=\"T_06953_level0_col2\" class=\"col_heading level0 col2\" >MSE</th>\n",
              "      <th id=\"T_06953_level0_col3\" class=\"col_heading level0 col3\" >RMSE</th>\n",
              "      <th id=\"T_06953_level0_col4\" class=\"col_heading level0 col4\" >R2</th>\n",
              "      <th id=\"T_06953_level0_col5\" class=\"col_heading level0 col5\" >RMSLE</th>\n",
              "      <th id=\"T_06953_level0_col6\" class=\"col_heading level0 col6\" >MAPE</th>\n",
              "      <th id=\"T_06953_level0_col7\" class=\"col_heading level0 col7\" >TT (Sec)</th>\n",
              "    </tr>\n",
              "  </thead>\n",
              "  <tbody>\n",
              "    <tr>\n",
              "      <th id=\"T_06953_level0_row0\" class=\"row_heading level0 row0\" >ada</th>\n",
              "      <td id=\"T_06953_row0_col0\" class=\"data row0 col0\" >AdaBoost Regressor</td>\n",
              "      <td id=\"T_06953_row0_col1\" class=\"data row0 col1\" >0.2657</td>\n",
              "      <td id=\"T_06953_row0_col2\" class=\"data row0 col2\" >0.1327</td>\n",
              "      <td id=\"T_06953_row0_col3\" class=\"data row0 col3\" >0.3641</td>\n",
              "      <td id=\"T_06953_row0_col4\" class=\"data row0 col4\" >0.0439</td>\n",
              "      <td id=\"T_06953_row0_col5\" class=\"data row0 col5\" >0.0902</td>\n",
              "      <td id=\"T_06953_row0_col6\" class=\"data row0 col6\" >0.0692</td>\n",
              "      <td id=\"T_06953_row0_col7\" class=\"data row0 col7\" >5.9400</td>\n",
              "    </tr>\n",
              "    <tr>\n",
              "      <th id=\"T_06953_level0_row1\" class=\"row_heading level0 row1\" >huber</th>\n",
              "      <td id=\"T_06953_row1_col0\" class=\"data row1 col0\" >Huber Regressor</td>\n",
              "      <td id=\"T_06953_row1_col1\" class=\"data row1 col1\" >0.2671</td>\n",
              "      <td id=\"T_06953_row1_col2\" class=\"data row1 col2\" >0.1357</td>\n",
              "      <td id=\"T_06953_row1_col3\" class=\"data row1 col3\" >0.3682</td>\n",
              "      <td id=\"T_06953_row1_col4\" class=\"data row1 col4\" >0.0217</td>\n",
              "      <td id=\"T_06953_row1_col5\" class=\"data row1 col5\" >0.0908</td>\n",
              "      <td id=\"T_06953_row1_col6\" class=\"data row1 col6\" >0.0698</td>\n",
              "      <td id=\"T_06953_row1_col7\" class=\"data row1 col7\" >2.9190</td>\n",
              "    </tr>\n",
              "    <tr>\n",
              "      <th id=\"T_06953_level0_row2\" class=\"row_heading level0 row2\" >ridge</th>\n",
              "      <td id=\"T_06953_row2_col0\" class=\"data row2 col0\" >Ridge Regression</td>\n",
              "      <td id=\"T_06953_row2_col1\" class=\"data row2 col1\" >0.2704</td>\n",
              "      <td id=\"T_06953_row2_col2\" class=\"data row2 col2\" >0.1359</td>\n",
              "      <td id=\"T_06953_row2_col3\" class=\"data row2 col3\" >0.3685</td>\n",
              "      <td id=\"T_06953_row2_col4\" class=\"data row2 col4\" >0.0203</td>\n",
              "      <td id=\"T_06953_row2_col5\" class=\"data row2 col5\" >0.0910</td>\n",
              "      <td id=\"T_06953_row2_col6\" class=\"data row2 col6\" >0.0704</td>\n",
              "      <td id=\"T_06953_row2_col7\" class=\"data row2 col7\" >2.3710</td>\n",
              "    </tr>\n",
              "    <tr>\n",
              "      <th id=\"T_06953_level0_row3\" class=\"row_heading level0 row3\" >gbr</th>\n",
              "      <td id=\"T_06953_row3_col0\" class=\"data row3 col0\" >Gradient Boosting Regressor</td>\n",
              "      <td id=\"T_06953_row3_col1\" class=\"data row3 col1\" >0.2724</td>\n",
              "      <td id=\"T_06953_row3_col2\" class=\"data row3 col2\" >0.1370</td>\n",
              "      <td id=\"T_06953_row3_col3\" class=\"data row3 col3\" >0.3700</td>\n",
              "      <td id=\"T_06953_row3_col4\" class=\"data row3 col4\" >0.0126</td>\n",
              "      <td id=\"T_06953_row3_col5\" class=\"data row3 col5\" >0.0911</td>\n",
              "      <td id=\"T_06953_row3_col6\" class=\"data row3 col6\" >0.0709</td>\n",
              "      <td id=\"T_06953_row3_col7\" class=\"data row3 col7\" >9.7090</td>\n",
              "    </tr>\n",
              "    <tr>\n",
              "      <th id=\"T_06953_level0_row4\" class=\"row_heading level0 row4\" >lar</th>\n",
              "      <td id=\"T_06953_row4_col0\" class=\"data row4 col0\" >Least Angle Regression</td>\n",
              "      <td id=\"T_06953_row4_col1\" class=\"data row4 col1\" >0.2718</td>\n",
              "      <td id=\"T_06953_row4_col2\" class=\"data row4 col2\" >0.1370</td>\n",
              "      <td id=\"T_06953_row4_col3\" class=\"data row4 col3\" >0.3700</td>\n",
              "      <td id=\"T_06953_row4_col4\" class=\"data row4 col4\" >0.0123</td>\n",
              "      <td id=\"T_06953_row4_col5\" class=\"data row4 col5\" >0.0913</td>\n",
              "      <td id=\"T_06953_row4_col6\" class=\"data row4 col6\" >0.0707</td>\n",
              "      <td id=\"T_06953_row4_col7\" class=\"data row4 col7\" >2.3600</td>\n",
              "    </tr>\n",
              "    <tr>\n",
              "      <th id=\"T_06953_level0_row5\" class=\"row_heading level0 row5\" >lr</th>\n",
              "      <td id=\"T_06953_row5_col0\" class=\"data row5 col0\" >Linear Regression</td>\n",
              "      <td id=\"T_06953_row5_col1\" class=\"data row5 col1\" >0.2719</td>\n",
              "      <td id=\"T_06953_row5_col2\" class=\"data row5 col2\" >0.1371</td>\n",
              "      <td id=\"T_06953_row5_col3\" class=\"data row5 col3\" >0.3701</td>\n",
              "      <td id=\"T_06953_row5_col4\" class=\"data row5 col4\" >0.0120</td>\n",
              "      <td id=\"T_06953_row5_col5\" class=\"data row5 col5\" >0.0913</td>\n",
              "      <td id=\"T_06953_row5_col6\" class=\"data row5 col6\" >0.0708</td>\n",
              "      <td id=\"T_06953_row5_col7\" class=\"data row5 col7\" >3.0480</td>\n",
              "    </tr>\n",
              "    <tr>\n",
              "      <th id=\"T_06953_level0_row6\" class=\"row_heading level0 row6\" >br</th>\n",
              "      <td id=\"T_06953_row6_col0\" class=\"data row6 col0\" >Bayesian Ridge</td>\n",
              "      <td id=\"T_06953_row6_col1\" class=\"data row6 col1\" >0.2719</td>\n",
              "      <td id=\"T_06953_row6_col2\" class=\"data row6 col2\" >0.1371</td>\n",
              "      <td id=\"T_06953_row6_col3\" class=\"data row6 col3\" >0.3701</td>\n",
              "      <td id=\"T_06953_row6_col4\" class=\"data row6 col4\" >0.0120</td>\n",
              "      <td id=\"T_06953_row6_col5\" class=\"data row6 col5\" >0.0913</td>\n",
              "      <td id=\"T_06953_row6_col6\" class=\"data row6 col6\" >0.0708</td>\n",
              "      <td id=\"T_06953_row6_col7\" class=\"data row6 col7\" >2.5350</td>\n",
              "    </tr>\n",
              "    <tr>\n",
              "      <th id=\"T_06953_level0_row7\" class=\"row_heading level0 row7\" >llar</th>\n",
              "      <td id=\"T_06953_row7_col0\" class=\"data row7 col0\" >Lasso Least Angle Regression</td>\n",
              "      <td id=\"T_06953_row7_col1\" class=\"data row7 col1\" >0.2710</td>\n",
              "      <td id=\"T_06953_row7_col2\" class=\"data row7 col2\" >0.1374</td>\n",
              "      <td id=\"T_06953_row7_col3\" class=\"data row7 col3\" >0.3706</td>\n",
              "      <td id=\"T_06953_row7_col4\" class=\"data row7 col4\" >0.0092</td>\n",
              "      <td id=\"T_06953_row7_col5\" class=\"data row7 col5\" >0.0912</td>\n",
              "      <td id=\"T_06953_row7_col6\" class=\"data row7 col6\" >0.0705</td>\n",
              "      <td id=\"T_06953_row7_col7\" class=\"data row7 col7\" >2.6160</td>\n",
              "    </tr>\n",
              "    <tr>\n",
              "      <th id=\"T_06953_level0_row8\" class=\"row_heading level0 row8\" >lasso</th>\n",
              "      <td id=\"T_06953_row8_col0\" class=\"data row8 col0\" >Lasso Regression</td>\n",
              "      <td id=\"T_06953_row8_col1\" class=\"data row8 col1\" >0.2710</td>\n",
              "      <td id=\"T_06953_row8_col2\" class=\"data row8 col2\" >0.1374</td>\n",
              "      <td id=\"T_06953_row8_col3\" class=\"data row8 col3\" >0.3706</td>\n",
              "      <td id=\"T_06953_row8_col4\" class=\"data row8 col4\" >0.0092</td>\n",
              "      <td id=\"T_06953_row8_col5\" class=\"data row8 col5\" >0.0912</td>\n",
              "      <td id=\"T_06953_row8_col6\" class=\"data row8 col6\" >0.0705</td>\n",
              "      <td id=\"T_06953_row8_col7\" class=\"data row8 col7\" >2.3790</td>\n",
              "    </tr>\n",
              "    <tr>\n",
              "      <th id=\"T_06953_level0_row9\" class=\"row_heading level0 row9\" >en</th>\n",
              "      <td id=\"T_06953_row9_col0\" class=\"data row9 col0\" >Elastic Net</td>\n",
              "      <td id=\"T_06953_row9_col1\" class=\"data row9 col1\" >0.2709</td>\n",
              "      <td id=\"T_06953_row9_col2\" class=\"data row9 col2\" >0.1375</td>\n",
              "      <td id=\"T_06953_row9_col3\" class=\"data row9 col3\" >0.3707</td>\n",
              "      <td id=\"T_06953_row9_col4\" class=\"data row9 col4\" >0.0086</td>\n",
              "      <td id=\"T_06953_row9_col5\" class=\"data row9 col5\" >0.0912</td>\n",
              "      <td id=\"T_06953_row9_col6\" class=\"data row9 col6\" >0.0705</td>\n",
              "      <td id=\"T_06953_row9_col7\" class=\"data row9 col7\" >2.5370</td>\n",
              "    </tr>\n",
              "    <tr>\n",
              "      <th id=\"T_06953_level0_row10\" class=\"row_heading level0 row10\" >lightgbm</th>\n",
              "      <td id=\"T_06953_row10_col0\" class=\"data row10 col0\" >Light Gradient Boosting Machine</td>\n",
              "      <td id=\"T_06953_row10_col1\" class=\"data row10 col1\" >0.2730</td>\n",
              "      <td id=\"T_06953_row10_col2\" class=\"data row10 col2\" >0.1380</td>\n",
              "      <td id=\"T_06953_row10_col3\" class=\"data row10 col3\" >0.3713</td>\n",
              "      <td id=\"T_06953_row10_col4\" class=\"data row10 col4\" >0.0054</td>\n",
              "      <td id=\"T_06953_row10_col5\" class=\"data row10 col5\" >0.0915</td>\n",
              "      <td id=\"T_06953_row10_col6\" class=\"data row10 col6\" >0.0710</td>\n",
              "      <td id=\"T_06953_row10_col7\" class=\"data row10 col7\" >4.3980</td>\n",
              "    </tr>\n",
              "    <tr>\n",
              "      <th id=\"T_06953_level0_row11\" class=\"row_heading level0 row11\" >et</th>\n",
              "      <td id=\"T_06953_row11_col0\" class=\"data row11 col0\" >Extra Trees Regressor</td>\n",
              "      <td id=\"T_06953_row11_col1\" class=\"data row11 col1\" >0.2731</td>\n",
              "      <td id=\"T_06953_row11_col2\" class=\"data row11 col2\" >0.1381</td>\n",
              "      <td id=\"T_06953_row11_col3\" class=\"data row11 col3\" >0.3715</td>\n",
              "      <td id=\"T_06953_row11_col4\" class=\"data row11 col4\" >0.0045</td>\n",
              "      <td id=\"T_06953_row11_col5\" class=\"data row11 col5\" >0.0915</td>\n",
              "      <td id=\"T_06953_row11_col6\" class=\"data row11 col6\" >0.0711</td>\n",
              "      <td id=\"T_06953_row11_col7\" class=\"data row11 col7\" >7.3410</td>\n",
              "    </tr>\n",
              "    <tr>\n",
              "      <th id=\"T_06953_level0_row12\" class=\"row_heading level0 row12\" >xgboost</th>\n",
              "      <td id=\"T_06953_row12_col0\" class=\"data row12 col0\" >Extreme Gradient Boosting</td>\n",
              "      <td id=\"T_06953_row12_col1\" class=\"data row12 col1\" >0.2733</td>\n",
              "      <td id=\"T_06953_row12_col2\" class=\"data row12 col2\" >0.1382</td>\n",
              "      <td id=\"T_06953_row12_col3\" class=\"data row12 col3\" >0.3716</td>\n",
              "      <td id=\"T_06953_row12_col4\" class=\"data row12 col4\" >0.0040</td>\n",
              "      <td id=\"T_06953_row12_col5\" class=\"data row12 col5\" >0.0915</td>\n",
              "      <td id=\"T_06953_row12_col6\" class=\"data row12 col6\" >0.0711</td>\n",
              "      <td id=\"T_06953_row12_col7\" class=\"data row12 col7\" >3.1250</td>\n",
              "    </tr>\n",
              "    <tr>\n",
              "      <th id=\"T_06953_level0_row13\" class=\"row_heading level0 row13\" >rf</th>\n",
              "      <td id=\"T_06953_row13_col0\" class=\"data row13 col0\" >Random Forest Regressor</td>\n",
              "      <td id=\"T_06953_row13_col1\" class=\"data row13 col1\" >0.2734</td>\n",
              "      <td id=\"T_06953_row13_col2\" class=\"data row13 col2\" >0.1383</td>\n",
              "      <td id=\"T_06953_row13_col3\" class=\"data row13 col3\" >0.3717</td>\n",
              "      <td id=\"T_06953_row13_col4\" class=\"data row13 col4\" >0.0032</td>\n",
              "      <td id=\"T_06953_row13_col5\" class=\"data row13 col5\" >0.0916</td>\n",
              "      <td id=\"T_06953_row13_col6\" class=\"data row13 col6\" >0.0712</td>\n",
              "      <td id=\"T_06953_row13_col7\" class=\"data row13 col7\" >17.8120</td>\n",
              "    </tr>\n",
              "    <tr>\n",
              "      <th id=\"T_06953_level0_row14\" class=\"row_heading level0 row14\" >omp</th>\n",
              "      <td id=\"T_06953_row14_col0\" class=\"data row14 col0\" >Orthogonal Matching Pursuit</td>\n",
              "      <td id=\"T_06953_row14_col1\" class=\"data row14 col1\" >0.2739</td>\n",
              "      <td id=\"T_06953_row14_col2\" class=\"data row14 col2\" >0.1386</td>\n",
              "      <td id=\"T_06953_row14_col3\" class=\"data row14 col3\" >0.3722</td>\n",
              "      <td id=\"T_06953_row14_col4\" class=\"data row14 col4\" >0.0006</td>\n",
              "      <td id=\"T_06953_row14_col5\" class=\"data row14 col5\" >0.0916</td>\n",
              "      <td id=\"T_06953_row14_col6\" class=\"data row14 col6\" >0.0713</td>\n",
              "      <td id=\"T_06953_row14_col7\" class=\"data row14 col7\" >2.3830</td>\n",
              "    </tr>\n",
              "    <tr>\n",
              "      <th id=\"T_06953_level0_row15\" class=\"row_heading level0 row15\" >dt</th>\n",
              "      <td id=\"T_06953_row15_col0\" class=\"data row15 col0\" >Decision Tree Regressor</td>\n",
              "      <td id=\"T_06953_row15_col1\" class=\"data row15 col1\" >0.2738</td>\n",
              "      <td id=\"T_06953_row15_col2\" class=\"data row15 col2\" >0.1387</td>\n",
              "      <td id=\"T_06953_row15_col3\" class=\"data row15 col3\" >0.3723</td>\n",
              "      <td id=\"T_06953_row15_col4\" class=\"data row15 col4\" >0.0003</td>\n",
              "      <td id=\"T_06953_row15_col5\" class=\"data row15 col5\" >0.0917</td>\n",
              "      <td id=\"T_06953_row15_col6\" class=\"data row15 col6\" >0.0713</td>\n",
              "      <td id=\"T_06953_row15_col7\" class=\"data row15 col7\" >2.7800</td>\n",
              "    </tr>\n",
              "    <tr>\n",
              "      <th id=\"T_06953_level0_row16\" class=\"row_heading level0 row16\" >dummy</th>\n",
              "      <td id=\"T_06953_row16_col0\" class=\"data row16 col0\" >Dummy Regressor</td>\n",
              "      <td id=\"T_06953_row16_col1\" class=\"data row16 col1\" >0.2741</td>\n",
              "      <td id=\"T_06953_row16_col2\" class=\"data row16 col2\" >0.1387</td>\n",
              "      <td id=\"T_06953_row16_col3\" class=\"data row16 col3\" >0.3724</td>\n",
              "      <td id=\"T_06953_row16_col4\" class=\"data row16 col4\" >-0.0002</td>\n",
              "      <td id=\"T_06953_row16_col5\" class=\"data row16 col5\" >0.0917</td>\n",
              "      <td id=\"T_06953_row16_col6\" class=\"data row16 col6\" >0.0713</td>\n",
              "      <td id=\"T_06953_row16_col7\" class=\"data row16 col7\" >2.4050</td>\n",
              "    </tr>\n",
              "    <tr>\n",
              "      <th id=\"T_06953_level0_row17\" class=\"row_heading level0 row17\" >knn</th>\n",
              "      <td id=\"T_06953_row17_col0\" class=\"data row17 col0\" >K Neighbors Regressor</td>\n",
              "      <td id=\"T_06953_row17_col1\" class=\"data row17 col1\" >0.2778</td>\n",
              "      <td id=\"T_06953_row17_col2\" class=\"data row17 col2\" >0.1404</td>\n",
              "      <td id=\"T_06953_row17_col3\" class=\"data row17 col3\" >0.3746</td>\n",
              "      <td id=\"T_06953_row17_col4\" class=\"data row17 col4\" >-0.0133</td>\n",
              "      <td id=\"T_06953_row17_col5\" class=\"data row17 col5\" >0.0892</td>\n",
              "      <td id=\"T_06953_row17_col6\" class=\"data row17 col6\" >0.0725</td>\n",
              "      <td id=\"T_06953_row17_col7\" class=\"data row17 col7\" >2.7100</td>\n",
              "    </tr>\n",
              "    <tr>\n",
              "      <th id=\"T_06953_level0_row18\" class=\"row_heading level0 row18\" >par</th>\n",
              "      <td id=\"T_06953_row18_col0\" class=\"data row18 col0\" >Passive Aggressive Regressor</td>\n",
              "      <td id=\"T_06953_row18_col1\" class=\"data row18 col1\" >2.7693</td>\n",
              "      <td id=\"T_06953_row18_col2\" class=\"data row18 col2\" >1137.4053</td>\n",
              "      <td id=\"T_06953_row18_col3\" class=\"data row18 col3\" >26.6878</td>\n",
              "      <td id=\"T_06953_row18_col4\" class=\"data row18 col4\" >-8332.5586</td>\n",
              "      <td id=\"T_06953_row18_col5\" class=\"data row18 col5\" >0.4066</td>\n",
              "      <td id=\"T_06953_row18_col6\" class=\"data row18 col6\" >0.6951</td>\n",
              "      <td id=\"T_06953_row18_col7\" class=\"data row18 col7\" >2.6460</td>\n",
              "    </tr>\n",
              "  </tbody>\n",
              "</table>\n"
            ]
          },
          "metadata": {}
        },
        {
          "output_type": "display_data",
          "data": {
            "text/plain": [
              "Processing:   0%|          | 0/81 [00:00<?, ?it/s]"
            ],
            "application/vnd.jupyter.widget-view+json": {
              "version_major": 2,
              "version_minor": 0,
              "model_id": "28a55ee949784bd1828792887cded767"
            }
          },
          "metadata": {
            "application/vnd.jupyter.widget-view+json": {
              "colab": {
                "custom_widget_manager": {
                  "url": "https://ssl.gstatic.com/colaboratory-static/widgets/colab-cdn-widget-manager/2b70e893a8ba7c0f/manager.min.js"
                }
              }
            }
          }
        },
        {
          "output_type": "stream",
          "name": "stderr",
          "text": [
            "/usr/local/lib/python3.10/dist-packages/pycaret/internal/pycaret_experiment/supervised_experiment.py:323: FutureWarning: Styler.applymap has been deprecated. Use Styler.map instead.\n",
            "  master_display_.apply(\n"
          ]
        },
        {
          "output_type": "display_data",
          "data": {
            "text/plain": [
              "<IPython.core.display.HTML object>"
            ],
            "text/html": []
          },
          "metadata": {}
        },
        {
          "output_type": "execute_result",
          "data": {
            "text/plain": [
              "AdaBoostRegressor(estimator=None, learning_rate=1.0, loss='linear',\n",
              "                  n_estimators=50, random_state=8592)"
            ],
            "text/html": [
              "<style>#sk-container-id-1 {\n",
              "  /* Definition of color scheme common for light and dark mode */\n",
              "  --sklearn-color-text: black;\n",
              "  --sklearn-color-line: gray;\n",
              "  /* Definition of color scheme for unfitted estimators */\n",
              "  --sklearn-color-unfitted-level-0: #fff5e6;\n",
              "  --sklearn-color-unfitted-level-1: #f6e4d2;\n",
              "  --sklearn-color-unfitted-level-2: #ffe0b3;\n",
              "  --sklearn-color-unfitted-level-3: chocolate;\n",
              "  /* Definition of color scheme for fitted estimators */\n",
              "  --sklearn-color-fitted-level-0: #f0f8ff;\n",
              "  --sklearn-color-fitted-level-1: #d4ebff;\n",
              "  --sklearn-color-fitted-level-2: #b3dbfd;\n",
              "  --sklearn-color-fitted-level-3: cornflowerblue;\n",
              "\n",
              "  /* Specific color for light theme */\n",
              "  --sklearn-color-text-on-default-background: var(--sg-text-color, var(--theme-code-foreground, var(--jp-content-font-color1, black)));\n",
              "  --sklearn-color-background: var(--sg-background-color, var(--theme-background, var(--jp-layout-color0, white)));\n",
              "  --sklearn-color-border-box: var(--sg-text-color, var(--theme-code-foreground, var(--jp-content-font-color1, black)));\n",
              "  --sklearn-color-icon: #696969;\n",
              "\n",
              "  @media (prefers-color-scheme: dark) {\n",
              "    /* Redefinition of color scheme for dark theme */\n",
              "    --sklearn-color-text-on-default-background: var(--sg-text-color, var(--theme-code-foreground, var(--jp-content-font-color1, white)));\n",
              "    --sklearn-color-background: var(--sg-background-color, var(--theme-background, var(--jp-layout-color0, #111)));\n",
              "    --sklearn-color-border-box: var(--sg-text-color, var(--theme-code-foreground, var(--jp-content-font-color1, white)));\n",
              "    --sklearn-color-icon: #878787;\n",
              "  }\n",
              "}\n",
              "\n",
              "#sk-container-id-1 {\n",
              "  color: var(--sklearn-color-text);\n",
              "}\n",
              "\n",
              "#sk-container-id-1 pre {\n",
              "  padding: 0;\n",
              "}\n",
              "\n",
              "#sk-container-id-1 input.sk-hidden--visually {\n",
              "  border: 0;\n",
              "  clip: rect(1px 1px 1px 1px);\n",
              "  clip: rect(1px, 1px, 1px, 1px);\n",
              "  height: 1px;\n",
              "  margin: -1px;\n",
              "  overflow: hidden;\n",
              "  padding: 0;\n",
              "  position: absolute;\n",
              "  width: 1px;\n",
              "}\n",
              "\n",
              "#sk-container-id-1 div.sk-dashed-wrapped {\n",
              "  border: 1px dashed var(--sklearn-color-line);\n",
              "  margin: 0 0.4em 0.5em 0.4em;\n",
              "  box-sizing: border-box;\n",
              "  padding-bottom: 0.4em;\n",
              "  background-color: var(--sklearn-color-background);\n",
              "}\n",
              "\n",
              "#sk-container-id-1 div.sk-container {\n",
              "  /* jupyter's `normalize.less` sets `[hidden] { display: none; }`\n",
              "     but bootstrap.min.css set `[hidden] { display: none !important; }`\n",
              "     so we also need the `!important` here to be able to override the\n",
              "     default hidden behavior on the sphinx rendered scikit-learn.org.\n",
              "     See: https://github.com/scikit-learn/scikit-learn/issues/21755 */\n",
              "  display: inline-block !important;\n",
              "  position: relative;\n",
              "}\n",
              "\n",
              "#sk-container-id-1 div.sk-text-repr-fallback {\n",
              "  display: none;\n",
              "}\n",
              "\n",
              "div.sk-parallel-item,\n",
              "div.sk-serial,\n",
              "div.sk-item {\n",
              "  /* draw centered vertical line to link estimators */\n",
              "  background-image: linear-gradient(var(--sklearn-color-text-on-default-background), var(--sklearn-color-text-on-default-background));\n",
              "  background-size: 2px 100%;\n",
              "  background-repeat: no-repeat;\n",
              "  background-position: center center;\n",
              "}\n",
              "\n",
              "/* Parallel-specific style estimator block */\n",
              "\n",
              "#sk-container-id-1 div.sk-parallel-item::after {\n",
              "  content: \"\";\n",
              "  width: 100%;\n",
              "  border-bottom: 2px solid var(--sklearn-color-text-on-default-background);\n",
              "  flex-grow: 1;\n",
              "}\n",
              "\n",
              "#sk-container-id-1 div.sk-parallel {\n",
              "  display: flex;\n",
              "  align-items: stretch;\n",
              "  justify-content: center;\n",
              "  background-color: var(--sklearn-color-background);\n",
              "  position: relative;\n",
              "}\n",
              "\n",
              "#sk-container-id-1 div.sk-parallel-item {\n",
              "  display: flex;\n",
              "  flex-direction: column;\n",
              "}\n",
              "\n",
              "#sk-container-id-1 div.sk-parallel-item:first-child::after {\n",
              "  align-self: flex-end;\n",
              "  width: 50%;\n",
              "}\n",
              "\n",
              "#sk-container-id-1 div.sk-parallel-item:last-child::after {\n",
              "  align-self: flex-start;\n",
              "  width: 50%;\n",
              "}\n",
              "\n",
              "#sk-container-id-1 div.sk-parallel-item:only-child::after {\n",
              "  width: 0;\n",
              "}\n",
              "\n",
              "/* Serial-specific style estimator block */\n",
              "\n",
              "#sk-container-id-1 div.sk-serial {\n",
              "  display: flex;\n",
              "  flex-direction: column;\n",
              "  align-items: center;\n",
              "  background-color: var(--sklearn-color-background);\n",
              "  padding-right: 1em;\n",
              "  padding-left: 1em;\n",
              "}\n",
              "\n",
              "\n",
              "/* Toggleable style: style used for estimator/Pipeline/ColumnTransformer box that is\n",
              "clickable and can be expanded/collapsed.\n",
              "- Pipeline and ColumnTransformer use this feature and define the default style\n",
              "- Estimators will overwrite some part of the style using the `sk-estimator` class\n",
              "*/\n",
              "\n",
              "/* Pipeline and ColumnTransformer style (default) */\n",
              "\n",
              "#sk-container-id-1 div.sk-toggleable {\n",
              "  /* Default theme specific background. It is overwritten whether we have a\n",
              "  specific estimator or a Pipeline/ColumnTransformer */\n",
              "  background-color: var(--sklearn-color-background);\n",
              "}\n",
              "\n",
              "/* Toggleable label */\n",
              "#sk-container-id-1 label.sk-toggleable__label {\n",
              "  cursor: pointer;\n",
              "  display: block;\n",
              "  width: 100%;\n",
              "  margin-bottom: 0;\n",
              "  padding: 0.5em;\n",
              "  box-sizing: border-box;\n",
              "  text-align: center;\n",
              "}\n",
              "\n",
              "#sk-container-id-1 label.sk-toggleable__label-arrow:before {\n",
              "  /* Arrow on the left of the label */\n",
              "  content: \"▸\";\n",
              "  float: left;\n",
              "  margin-right: 0.25em;\n",
              "  color: var(--sklearn-color-icon);\n",
              "}\n",
              "\n",
              "#sk-container-id-1 label.sk-toggleable__label-arrow:hover:before {\n",
              "  color: var(--sklearn-color-text);\n",
              "}\n",
              "\n",
              "/* Toggleable content - dropdown */\n",
              "\n",
              "#sk-container-id-1 div.sk-toggleable__content {\n",
              "  max-height: 0;\n",
              "  max-width: 0;\n",
              "  overflow: hidden;\n",
              "  text-align: left;\n",
              "  /* unfitted */\n",
              "  background-color: var(--sklearn-color-unfitted-level-0);\n",
              "}\n",
              "\n",
              "#sk-container-id-1 div.sk-toggleable__content.fitted {\n",
              "  /* fitted */\n",
              "  background-color: var(--sklearn-color-fitted-level-0);\n",
              "}\n",
              "\n",
              "#sk-container-id-1 div.sk-toggleable__content pre {\n",
              "  margin: 0.2em;\n",
              "  border-radius: 0.25em;\n",
              "  color: var(--sklearn-color-text);\n",
              "  /* unfitted */\n",
              "  background-color: var(--sklearn-color-unfitted-level-0);\n",
              "}\n",
              "\n",
              "#sk-container-id-1 div.sk-toggleable__content.fitted pre {\n",
              "  /* unfitted */\n",
              "  background-color: var(--sklearn-color-fitted-level-0);\n",
              "}\n",
              "\n",
              "#sk-container-id-1 input.sk-toggleable__control:checked~div.sk-toggleable__content {\n",
              "  /* Expand drop-down */\n",
              "  max-height: 200px;\n",
              "  max-width: 100%;\n",
              "  overflow: auto;\n",
              "}\n",
              "\n",
              "#sk-container-id-1 input.sk-toggleable__control:checked~label.sk-toggleable__label-arrow:before {\n",
              "  content: \"▾\";\n",
              "}\n",
              "\n",
              "/* Pipeline/ColumnTransformer-specific style */\n",
              "\n",
              "#sk-container-id-1 div.sk-label input.sk-toggleable__control:checked~label.sk-toggleable__label {\n",
              "  color: var(--sklearn-color-text);\n",
              "  background-color: var(--sklearn-color-unfitted-level-2);\n",
              "}\n",
              "\n",
              "#sk-container-id-1 div.sk-label.fitted input.sk-toggleable__control:checked~label.sk-toggleable__label {\n",
              "  background-color: var(--sklearn-color-fitted-level-2);\n",
              "}\n",
              "\n",
              "/* Estimator-specific style */\n",
              "\n",
              "/* Colorize estimator box */\n",
              "#sk-container-id-1 div.sk-estimator input.sk-toggleable__control:checked~label.sk-toggleable__label {\n",
              "  /* unfitted */\n",
              "  background-color: var(--sklearn-color-unfitted-level-2);\n",
              "}\n",
              "\n",
              "#sk-container-id-1 div.sk-estimator.fitted input.sk-toggleable__control:checked~label.sk-toggleable__label {\n",
              "  /* fitted */\n",
              "  background-color: var(--sklearn-color-fitted-level-2);\n",
              "}\n",
              "\n",
              "#sk-container-id-1 div.sk-label label.sk-toggleable__label,\n",
              "#sk-container-id-1 div.sk-label label {\n",
              "  /* The background is the default theme color */\n",
              "  color: var(--sklearn-color-text-on-default-background);\n",
              "}\n",
              "\n",
              "/* On hover, darken the color of the background */\n",
              "#sk-container-id-1 div.sk-label:hover label.sk-toggleable__label {\n",
              "  color: var(--sklearn-color-text);\n",
              "  background-color: var(--sklearn-color-unfitted-level-2);\n",
              "}\n",
              "\n",
              "/* Label box, darken color on hover, fitted */\n",
              "#sk-container-id-1 div.sk-label.fitted:hover label.sk-toggleable__label.fitted {\n",
              "  color: var(--sklearn-color-text);\n",
              "  background-color: var(--sklearn-color-fitted-level-2);\n",
              "}\n",
              "\n",
              "/* Estimator label */\n",
              "\n",
              "#sk-container-id-1 div.sk-label label {\n",
              "  font-family: monospace;\n",
              "  font-weight: bold;\n",
              "  display: inline-block;\n",
              "  line-height: 1.2em;\n",
              "}\n",
              "\n",
              "#sk-container-id-1 div.sk-label-container {\n",
              "  text-align: center;\n",
              "}\n",
              "\n",
              "/* Estimator-specific */\n",
              "#sk-container-id-1 div.sk-estimator {\n",
              "  font-family: monospace;\n",
              "  border: 1px dotted var(--sklearn-color-border-box);\n",
              "  border-radius: 0.25em;\n",
              "  box-sizing: border-box;\n",
              "  margin-bottom: 0.5em;\n",
              "  /* unfitted */\n",
              "  background-color: var(--sklearn-color-unfitted-level-0);\n",
              "}\n",
              "\n",
              "#sk-container-id-1 div.sk-estimator.fitted {\n",
              "  /* fitted */\n",
              "  background-color: var(--sklearn-color-fitted-level-0);\n",
              "}\n",
              "\n",
              "/* on hover */\n",
              "#sk-container-id-1 div.sk-estimator:hover {\n",
              "  /* unfitted */\n",
              "  background-color: var(--sklearn-color-unfitted-level-2);\n",
              "}\n",
              "\n",
              "#sk-container-id-1 div.sk-estimator.fitted:hover {\n",
              "  /* fitted */\n",
              "  background-color: var(--sklearn-color-fitted-level-2);\n",
              "}\n",
              "\n",
              "/* Specification for estimator info (e.g. \"i\" and \"?\") */\n",
              "\n",
              "/* Common style for \"i\" and \"?\" */\n",
              "\n",
              ".sk-estimator-doc-link,\n",
              "a:link.sk-estimator-doc-link,\n",
              "a:visited.sk-estimator-doc-link {\n",
              "  float: right;\n",
              "  font-size: smaller;\n",
              "  line-height: 1em;\n",
              "  font-family: monospace;\n",
              "  background-color: var(--sklearn-color-background);\n",
              "  border-radius: 1em;\n",
              "  height: 1em;\n",
              "  width: 1em;\n",
              "  text-decoration: none !important;\n",
              "  margin-left: 1ex;\n",
              "  /* unfitted */\n",
              "  border: var(--sklearn-color-unfitted-level-1) 1pt solid;\n",
              "  color: var(--sklearn-color-unfitted-level-1);\n",
              "}\n",
              "\n",
              ".sk-estimator-doc-link.fitted,\n",
              "a:link.sk-estimator-doc-link.fitted,\n",
              "a:visited.sk-estimator-doc-link.fitted {\n",
              "  /* fitted */\n",
              "  border: var(--sklearn-color-fitted-level-1) 1pt solid;\n",
              "  color: var(--sklearn-color-fitted-level-1);\n",
              "}\n",
              "\n",
              "/* On hover */\n",
              "div.sk-estimator:hover .sk-estimator-doc-link:hover,\n",
              ".sk-estimator-doc-link:hover,\n",
              "div.sk-label-container:hover .sk-estimator-doc-link:hover,\n",
              ".sk-estimator-doc-link:hover {\n",
              "  /* unfitted */\n",
              "  background-color: var(--sklearn-color-unfitted-level-3);\n",
              "  color: var(--sklearn-color-background);\n",
              "  text-decoration: none;\n",
              "}\n",
              "\n",
              "div.sk-estimator.fitted:hover .sk-estimator-doc-link.fitted:hover,\n",
              ".sk-estimator-doc-link.fitted:hover,\n",
              "div.sk-label-container:hover .sk-estimator-doc-link.fitted:hover,\n",
              ".sk-estimator-doc-link.fitted:hover {\n",
              "  /* fitted */\n",
              "  background-color: var(--sklearn-color-fitted-level-3);\n",
              "  color: var(--sklearn-color-background);\n",
              "  text-decoration: none;\n",
              "}\n",
              "\n",
              "/* Span, style for the box shown on hovering the info icon */\n",
              ".sk-estimator-doc-link span {\n",
              "  display: none;\n",
              "  z-index: 9999;\n",
              "  position: relative;\n",
              "  font-weight: normal;\n",
              "  right: .2ex;\n",
              "  padding: .5ex;\n",
              "  margin: .5ex;\n",
              "  width: min-content;\n",
              "  min-width: 20ex;\n",
              "  max-width: 50ex;\n",
              "  color: var(--sklearn-color-text);\n",
              "  box-shadow: 2pt 2pt 4pt #999;\n",
              "  /* unfitted */\n",
              "  background: var(--sklearn-color-unfitted-level-0);\n",
              "  border: .5pt solid var(--sklearn-color-unfitted-level-3);\n",
              "}\n",
              "\n",
              ".sk-estimator-doc-link.fitted span {\n",
              "  /* fitted */\n",
              "  background: var(--sklearn-color-fitted-level-0);\n",
              "  border: var(--sklearn-color-fitted-level-3);\n",
              "}\n",
              "\n",
              ".sk-estimator-doc-link:hover span {\n",
              "  display: block;\n",
              "}\n",
              "\n",
              "/* \"?\"-specific style due to the `<a>` HTML tag */\n",
              "\n",
              "#sk-container-id-1 a.estimator_doc_link {\n",
              "  float: right;\n",
              "  font-size: 1rem;\n",
              "  line-height: 1em;\n",
              "  font-family: monospace;\n",
              "  background-color: var(--sklearn-color-background);\n",
              "  border-radius: 1rem;\n",
              "  height: 1rem;\n",
              "  width: 1rem;\n",
              "  text-decoration: none;\n",
              "  /* unfitted */\n",
              "  color: var(--sklearn-color-unfitted-level-1);\n",
              "  border: var(--sklearn-color-unfitted-level-1) 1pt solid;\n",
              "}\n",
              "\n",
              "#sk-container-id-1 a.estimator_doc_link.fitted {\n",
              "  /* fitted */\n",
              "  border: var(--sklearn-color-fitted-level-1) 1pt solid;\n",
              "  color: var(--sklearn-color-fitted-level-1);\n",
              "}\n",
              "\n",
              "/* On hover */\n",
              "#sk-container-id-1 a.estimator_doc_link:hover {\n",
              "  /* unfitted */\n",
              "  background-color: var(--sklearn-color-unfitted-level-3);\n",
              "  color: var(--sklearn-color-background);\n",
              "  text-decoration: none;\n",
              "}\n",
              "\n",
              "#sk-container-id-1 a.estimator_doc_link.fitted:hover {\n",
              "  /* fitted */\n",
              "  background-color: var(--sklearn-color-fitted-level-3);\n",
              "}\n",
              "</style><div id=\"sk-container-id-1\" class=\"sk-top-container\"><div class=\"sk-text-repr-fallback\"><pre>AdaBoostRegressor(estimator=None, learning_rate=1.0, loss=&#x27;linear&#x27;,\n",
              "                  n_estimators=50, random_state=8592)</pre><b>In a Jupyter environment, please rerun this cell to show the HTML representation or trust the notebook. <br />On GitHub, the HTML representation is unable to render, please try loading this page with nbviewer.org.</b></div><div class=\"sk-container\" hidden><div class=\"sk-item\"><div class=\"sk-estimator fitted sk-toggleable\"><input class=\"sk-toggleable__control sk-hidden--visually\" id=\"sk-estimator-id-1\" type=\"checkbox\" checked><label for=\"sk-estimator-id-1\" class=\"sk-toggleable__label fitted sk-toggleable__label-arrow fitted\">&nbsp;&nbsp;AdaBoostRegressor<a class=\"sk-estimator-doc-link fitted\" rel=\"noreferrer\" target=\"_blank\" href=\"https://scikit-learn.org/1.4/modules/generated/sklearn.ensemble.AdaBoostRegressor.html\">?<span>Documentation for AdaBoostRegressor</span></a><span class=\"sk-estimator-doc-link fitted\">i<span>Fitted</span></span></label><div class=\"sk-toggleable__content fitted\"><pre>AdaBoostRegressor(estimator=None, learning_rate=1.0, loss=&#x27;linear&#x27;,\n",
              "                  n_estimators=50, random_state=8592)</pre></div> </div></div></div></div>"
            ]
          },
          "metadata": {},
          "execution_count": 8
        }
      ]
    },
    {
      "cell_type": "markdown",
      "source": [
        "A avaliação demonstra que um bom modelo para se trabalhar com o dataset é o AdaBoostRegressor, também disponível no Scikit-learn.\n",
        "\n",
        "Vou aplicar o mesmo, porém substituindo o random_state de 8592 para o 42, que é o padrão que estou adotando em todos os outros."
      ],
      "metadata": {
        "id": "a0SRd9mzY2s3"
      }
    },
    {
      "cell_type": "markdown",
      "source": [
        "### ADABoostRegressor"
      ],
      "metadata": {
        "id": "gWHf0Q9yxKiJ"
      }
    },
    {
      "cell_type": "markdown",
      "source": [
        "#### Imputação de bibliotecas"
      ],
      "metadata": {
        "id": "AbG5vrDsxVp7"
      }
    },
    {
      "cell_type": "code",
      "source": [
        "import pandas as pd\n",
        "from sklearn.model_selection import train_test_split\n",
        "from sklearn.pipeline import Pipeline\n",
        "from sklearn.compose import ColumnTransformer\n",
        "from sklearn.preprocessing import StandardScaler, LabelEncoder, MultiLabelBinarizer, FunctionTransformer, OneHotEncoder, Binarizer\n",
        "from sklearn.ensemble import AdaBoostRegressor\n",
        "from sklearn.metrics import mean_squared_error, mean_absolute_error, r2_score\n",
        "import numpy as np\n",
        "import matplotlib.pyplot as plt\n",
        "import numpy as np"
      ],
      "metadata": {
        "id": "4Mk-2934xYnU"
      },
      "execution_count": null,
      "outputs": []
    },
    {
      "cell_type": "code",
      "source": [
        "df_pipe = pd.read_csv('/content/drive/MyDrive/BackEnd/GoodReads_100k_books.csv')"
      ],
      "metadata": {
        "id": "iZFvnORTxjz4"
      },
      "execution_count": null,
      "outputs": []
    },
    {
      "cell_type": "markdown",
      "source": [
        "Utilizando o pipeline de pré processamento para definir tratamento para os dados faltantes e transformação de dados categóricos"
      ],
      "metadata": {
        "id": "P1DBXH7VxqrI"
      }
    },
    {
      "cell_type": "code",
      "source": [
        "numeric_features = ['pages', 'totalratings', 'reviews']\n",
        "categorical_features = ['author', 'bookformat', 'genre', 'title']\n",
        "\n",
        "# Pipeline para os atributos numéricos\n",
        "numeric_transformer = Pipeline(steps=[\n",
        "    ('scaler', StandardScaler())\n",
        "])\n",
        "\n",
        "# Pipeline para os atributos categóricos\n",
        "categorical_transformer = Pipeline(steps=[\n",
        "    ('onehot', OneHotEncoder(handle_unknown='ignore'))\n",
        "])"
      ],
      "metadata": {
        "id": "JyHCtyPwxprq"
      },
      "execution_count": null,
      "outputs": []
    },
    {
      "cell_type": "markdown",
      "source": [
        "Combinando os dois transformadores em um pré-processador"
      ],
      "metadata": {
        "id": "W1dXeOoJyG-d"
      }
    },
    {
      "cell_type": "code",
      "source": [
        "preprocessor = ColumnTransformer(\n",
        "    transformers=[\n",
        "        ('num', numeric_transformer, numeric_features),\n",
        "        ('cat', categorical_transformer, categorical_features)\n",
        "    ]\n",
        ")"
      ],
      "metadata": {
        "id": "ynuQ4MZIyFzV"
      },
      "execution_count": null,
      "outputs": []
    },
    {
      "cell_type": "markdown",
      "source": [
        "Em seguida, executa o pipeline completo."
      ],
      "metadata": {
        "id": "WdUFNP8kyN5W"
      }
    },
    {
      "cell_type": "code",
      "source": [
        "pipeline = Pipeline(steps=[\n",
        "    ('dropna', FunctionTransformer(lambda df: df.dropna(subset=['title', 'desc', 'genre', 'bookformat']), validate=False)),\n",
        "    ('drop_columns', FunctionTransformer(lambda df: df.drop(columns=['desc', 'isbn', 'isbn13', 'img', 'link']), validate=False)),\n",
        "    ('preprocessor', preprocessor)\n",
        "])"
      ],
      "metadata": {
        "id": "xmX9zyvpyLht"
      },
      "execution_count": null,
      "outputs": []
    },
    {
      "cell_type": "markdown",
      "source": [],
      "metadata": {
        "id": "NIvvftmryZP3"
      }
    },
    {
      "cell_type": "code",
      "source": [
        "X = df_pipe.drop(columns=['rating'])\n",
        "y = df_pipe['rating']\n",
        "\n",
        "binarizer = Binarizer(threshold=4.0)\n",
        "y_binary = binarizer.fit_transform(y.values.reshape(-1, 1)).ravel()"
      ],
      "metadata": {
        "id": "ehsshDpvyUju"
      },
      "execution_count": null,
      "outputs": []
    },
    {
      "cell_type": "code",
      "source": [
        "# Criar um DataFrame temporário com X e y_binary\n",
        "temp_df = pd.concat([X, pd.DataFrame(y_binary, columns=['rating_binary'])], axis=1)\n",
        "df_preprocessed = pipeline.fit_transform(temp_df)"
      ],
      "metadata": {
        "id": "P2xpSdE8yiex"
      },
      "execution_count": null,
      "outputs": []
    },
    {
      "cell_type": "markdown",
      "source": [
        "Separação das features e o target do DataFrame pré-processado, o primeiro pegando todas exceto a última, e o y pegando apenas a coluna de rating."
      ],
      "metadata": {
        "id": "y-AOEDhhz2B9"
      }
    },
    {
      "cell_type": "code",
      "source": [
        "# Separar as features e o target do DataFrame pré-processado\n",
        "X_processed = df_preprocessed[:, :-1]\n",
        "y_processed = df_preprocessed[:, -1]"
      ],
      "metadata": {
        "id": "vN-DFYJkyoxL"
      },
      "execution_count": null,
      "outputs": []
    },
    {
      "cell_type": "markdown",
      "source": [
        "Dividindo os dados em conjunto de treino e teste, com mesmo tamanho (80% treino, 20% teste), e random_state=42."
      ],
      "metadata": {
        "id": "c_2wr-HNy5vv"
      }
    },
    {
      "cell_type": "code",
      "source": [
        "X_train, X_test, y_train, y_test = train_test_split(X_processed, y_processed, test_size=0.2, random_state=42)"
      ],
      "metadata": {
        "id": "bF9vOhMwyuY2"
      },
      "execution_count": null,
      "outputs": []
    },
    {
      "cell_type": "markdown",
      "source": [
        "#### Instânciando o ADA e avaliando o modelo"
      ],
      "metadata": {
        "id": "V6hkxu7Ty0GN"
      }
    },
    {
      "cell_type": "code",
      "source": [
        "adaboost_regressor = AdaBoostRegressor(n_estimators=100, random_state=42)\n",
        "\n",
        "# Treinar o modelo com os dados de treino, convertendo y_train para um array denso\n",
        "adaboost_regressor.fit(X_train, y_train.toarray().ravel())\n",
        "\n",
        "y_pred = adaboost_regressor.predict(X_test)\n",
        "\n",
        "mse = mean_squared_error(y_test.toarray(), y_pred)\n",
        "r2 = r2_score(y_test.toarray(), y_pred)\n",
        "print(f\"Erro Quadrático Médio (MSE) do modelo: {mse:.2f}\")\n",
        "print(f\"Coeficiente de Determinação (R2) do modelo: {r2:.2f}\")"
      ],
      "metadata": {
        "colab": {
          "base_uri": "https://localhost:8080/"
        },
        "id": "kWKgRFs0yysU",
        "outputId": "77ccb228-c2a0-45bc-d293-50ca4e73c900"
      },
      "execution_count": null,
      "outputs": [
        {
          "output_type": "stream",
          "name": "stdout",
          "text": [
            "Erro Quadrático Médio (MSE) do modelo: 0.00\n",
            "Coeficiente de Determinação (R2) do modelo: 1.00\n"
          ]
        }
      ]
    },
    {
      "cell_type": "markdown",
      "source": [
        "Esses valores indicam que o modelo AdaBoost está conseguindo prever com exatidão os dados do conjunto de treino, o que pode ser um indício de overfitting (quando o modelo se ajusta tão bem aos dados de treinamento que perde a capacidade de generalizar para novos dados).\n",
        "\n",
        "\n",
        "---\n",
        "\n",
        "\n",
        "\n",
        "Sendo assim, o modelo de Regressão Logística ainda é o modelo que mais\n",
        "apresenta confiabilidade."
      ],
      "metadata": {
        "id": "yDPpqPD31tsH"
      }
    }
  ]
}