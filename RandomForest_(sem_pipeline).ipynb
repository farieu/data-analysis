{
  "nbformat": 4,
  "nbformat_minor": 0,
  "metadata": {
    "colab": {
      "provenance": [],
      "collapsed_sections": [
        "aZ-FPGTR97fV"
      ],
      "authorship_tag": "ABX9TyObj/EWmkVZFMd1H7jlPKG2",
      "include_colab_link": true
    },
    "kernelspec": {
      "name": "python3",
      "display_name": "Python 3"
    },
    "language_info": {
      "name": "python"
    }
  },
  "cells": [
    {
      "cell_type": "markdown",
      "metadata": {
        "id": "view-in-github",
        "colab_type": "text"
      },
      "source": [
        "<a href=\"https://colab.research.google.com/github/farieu/data-analysis/blob/OutrosModelos/RandomForest_(sem_pipeline).ipynb\" target=\"_parent\"><img src=\"https://colab.research.google.com/assets/colab-badge.svg\" alt=\"Open In Colab\"/></a>"
      ]
    },
    {
      "cell_type": "markdown",
      "source": [
        "# Treinamento com Random Forest"
      ],
      "metadata": {
        "id": "o387oci4k7IB"
      }
    },
    {
      "cell_type": "markdown",
      "source": [
        "Esse treinamento é uma nova versão do que estava commitado. A primeira versão do pipeline apresentava vários bugs, e ocasionava na elaboração de um dataset gigantesco, muito diferente do que o que usei para Regressão.\n",
        "\n",
        "---\n",
        "Essa nova versão utiliza o GoodReads Encoded, fruto da branch **SelecaoFeatures**, mesmo dataset que usei para treinar o modelo de Regressão."
      ],
      "metadata": {
        "id": "lakUFQXuWiN9"
      }
    },
    {
      "cell_type": "markdown",
      "source": [
        "### Importação de bibliotecas e dataset"
      ],
      "metadata": {
        "id": "aZ-FPGTR97fV"
      }
    },
    {
      "cell_type": "code",
      "source": [
        "from google.colab import drive\n",
        "drive.mount('/content/drive')"
      ],
      "metadata": {
        "colab": {
          "base_uri": "https://localhost:8080/"
        },
        "id": "ar8_3LN4lv5Z",
        "outputId": "07da8800-b6be-4c28-e940-ce8d20c20abf"
      },
      "execution_count": null,
      "outputs": [
        {
          "output_type": "stream",
          "name": "stdout",
          "text": [
            "Drive already mounted at /content/drive; to attempt to forcibly remount, call drive.mount(\"/content/drive\", force_remount=True).\n"
          ]
        }
      ]
    },
    {
      "cell_type": "code",
      "execution_count": null,
      "metadata": {
        "id": "4CRlq2Rgki2x"
      },
      "outputs": [],
      "source": [
        "import pandas as pd\n",
        "import matplotlib.pyplot as plt\n",
        "from sklearn.model_selection import train_test_split\n",
        "from sklearn.linear_model import LogisticRegression\n",
        "from sklearn.ensemble import RandomForestClassifier\n",
        "from sklearn.preprocessing import Binarizer, LabelEncoder, MultiLabelBinarizer\n",
        "from sklearn.metrics import accuracy_score, classification_report, confusion_matrix, ConfusionMatrixDisplay"
      ]
    },
    {
      "cell_type": "code",
      "source": [
        "df = pd.read_csv('/content/drive/MyDrive/BackEnd/Treinamento/GoodReadsEncoded.csv')"
      ],
      "metadata": {
        "id": "Dz6vUN_TlyWh"
      },
      "execution_count": null,
      "outputs": []
    },
    {
      "cell_type": "markdown",
      "source": [
        "### Treinamento sem passar pelo Pipeline de Pré-Processamento"
      ],
      "metadata": {
        "id": "h7OEkQRNmtN_"
      }
    },
    {
      "cell_type": "markdown",
      "source": [
        "Com o dataset codificado, começo a preparar o treinamento:\n",
        "dividindo o conjunto em características (features), através\n",
        "\n",
        "1.   Dividindo o conjunto em X e y\n",
        "2.  **X**: características/variáveis independentes, que vão servir como entrada para o modelo.\n",
        "3. **Y**: variável dependente que o modelo está tentando prever, ou seja, a nota do livro.\n",
        "\n",
        "\n"
      ],
      "metadata": {
        "id": "tTSXOWmypzsx"
      }
    },
    {
      "cell_type": "code",
      "source": [
        "X = df.drop(columns=['rating', 'desc'])\n",
        "y = df['rating']"
      ],
      "metadata": {
        "id": "kRUIlGCwnCN-"
      },
      "execution_count": null,
      "outputs": []
    },
    {
      "cell_type": "code",
      "source": [
        "print(X.columns)\n",
        "print(X.head(2))"
      ],
      "metadata": {
        "colab": {
          "base_uri": "https://localhost:8080/"
        },
        "id": "hVdsGBfUEDiF",
        "outputId": "51f2f84b-a792-4c90-b5fe-08f93f742fec"
      },
      "execution_count": null,
      "outputs": [
        {
          "output_type": "stream",
          "name": "stdout",
          "text": [
            "Index(['author', 'bookformat', 'pages', 'reviews', 'title', 'totalratings',\n",
            "       '10th Century', '11th Century', '12th Century', '13th Century',\n",
            "       ...\n",
            "       'Young Adult Paranormal', 'Young Adult Romance',\n",
            "       'Young Adult Science Fiction', 'Young Readers', 'Yuri', 'Zambia', 'Zen',\n",
            "       'Zimbabwe', 'Zombies', 'æ¼«ç”»'],\n",
            "      dtype='object', length=1185)\n",
            "   author  bookformat  pages  reviews  title  totalratings  10th Century  \\\n",
            "0   32032          56      0        5   8698            33             0   \n",
            "1    8446         100    576        6  21651            41             0   \n",
            "\n",
            "   11th Century  12th Century  13th Century  ...  Young Adult Paranormal  \\\n",
            "0             0             0             0  ...                       0   \n",
            "1             0             0             0  ...                       0   \n",
            "\n",
            "   Young Adult Romance  Young Adult Science Fiction  Young Readers  Yuri  \\\n",
            "0                    0                            0              0     0   \n",
            "1                    0                            0              0     0   \n",
            "\n",
            "   Zambia  Zen  Zimbabwe  Zombies  æ¼«ç”»  \n",
            "0       0    0         0        0       0  \n",
            "1       0    0         0        0       0  \n",
            "\n",
            "[2 rows x 1185 columns]\n"
          ]
        }
      ]
    },
    {
      "cell_type": "code",
      "source": [
        "print(y)\n",
        "print(y.head(3))"
      ],
      "metadata": {
        "colab": {
          "base_uri": "https://localhost:8080/"
        },
        "id": "GT2pVNhCEEHQ",
        "outputId": "750228e2-a7a2-4688-b5be-75487ac7486f"
      },
      "execution_count": null,
      "outputs": [
        {
          "output_type": "stream",
          "name": "stdout",
          "text": [
            "0        3.52\n",
            "1        4.51\n",
            "2        4.15\n",
            "3        3.83\n",
            "4        3.73\n",
            "         ... \n",
            "84049    3.77\n",
            "84050    3.97\n",
            "84051    4.27\n",
            "84052    3.63\n",
            "84053    3.83\n",
            "Name: rating, Length: 84054, dtype: float64\n",
            "0    3.52\n",
            "1    4.51\n",
            "2    4.15\n",
            "Name: rating, dtype: float64\n"
          ]
        }
      ]
    },
    {
      "cell_type": "markdown",
      "source": [
        "Conforme mostrado na Preparação do Modelo, precisamos binarizar as notas para treinamento.\n",
        "\n",
        "\n",
        "\n",
        "*   Avaliações de livros maior ou igual a 4 serão categorizadas como '1' (boa avaliação).\n",
        "*   Avaliações menores que 4 serão categorizadas como '0' (má avaliação)\n",
        "\n"
      ],
      "metadata": {
        "id": "NY49RTy9pqUh"
      }
    },
    {
      "cell_type": "code",
      "source": [
        "binarizer = Binarizer(threshold=4.0)\n",
        "y_binary = binarizer.fit_transform(y.values.reshape(-1, 1)).ravel()\n",
        "print(y_binary)"
      ],
      "metadata": {
        "colab": {
          "base_uri": "https://localhost:8080/"
        },
        "id": "1wSq6vVZp9H5",
        "outputId": "81e3e285-6699-48e9-c9b6-5d8753b2d5c0"
      },
      "execution_count": null,
      "outputs": [
        {
          "output_type": "stream",
          "name": "stdout",
          "text": [
            "[0. 1. 1. ... 1. 0. 0.]\n"
          ]
        }
      ]
    },
    {
      "cell_type": "markdown",
      "source": [
        "Agora, precisamos separar os conjuntos de treino e de teste. Para a **Random Forest**, será divido em:\n",
        "\n",
        "1.   **80% para Treinamento**\n",
        "2.   **20% para Teste**"
      ],
      "metadata": {
        "id": "0qTAwUVErEfB"
      }
    },
    {
      "cell_type": "code",
      "source": [
        "X_train, X_test, y_train, y_test = train_test_split(X, y_binary, test_size=0.2, random_state=42)"
      ],
      "metadata": {
        "id": "XPAM6sBFrDLw"
      },
      "execution_count": null,
      "outputs": []
    },
    {
      "cell_type": "markdown",
      "source": [
        "Instanciamento do Random Forest, treinamento e avaliação do modelo."
      ],
      "metadata": {
        "id": "r8kRiAys85VQ"
      }
    },
    {
      "cell_type": "code",
      "source": [
        "rf_classifier = RandomForestClassifier(n_estimators=100, random_state=42)\n",
        "\n",
        "rf_classifier.fit(X_train, y_train)\n",
        "\n",
        "y_pred = rf_classifier.predict(X_test)\n",
        "\n",
        "# Avaliar o desempenho do modelo, relatório de classificação e matriz de confusão.\n",
        "accuracy = accuracy_score(y_test, y_pred)\n",
        "print(f\"Acurácia do modelo: {accuracy:.2f}\")\n",
        "print(\"\\nRelatório de Classificação:\\n\", classification_report(y_test, y_pred))\n",
        "print(\"\\nMatriz de Confusão:\\n\", confusion_matrix(y_test, y_pred))"
      ],
      "metadata": {
        "colab": {
          "base_uri": "https://localhost:8080/"
        },
        "id": "p1i6j0El8tO6",
        "outputId": "69ba7662-02cd-4d49-a9d9-295a0e4713b2"
      },
      "execution_count": null,
      "outputs": [
        {
          "output_type": "stream",
          "name": "stdout",
          "text": [
            "Acurácia do modelo: 0.73\n",
            "\n",
            "Relatório de Classificação:\n",
            "               precision    recall  f1-score   support\n",
            "\n",
            "         0.0       0.74      0.86      0.80     10380\n",
            "         1.0       0.70      0.52      0.60      6431\n",
            "\n",
            "    accuracy                           0.73     16811\n",
            "   macro avg       0.72      0.69      0.70     16811\n",
            "weighted avg       0.73      0.73      0.72     16811\n",
            "\n",
            "\n",
            "Matriz de Confusão:\n",
            " [[8937 1443]\n",
            " [3082 3349]]\n"
          ]
        }
      ]
    },
    {
      "cell_type": "code",
      "source": [
        "matrix = confusion_matrix(y_test, y_pred)\n",
        "\n",
        "disp = ConfusionMatrixDisplay(confusion_matrix=matrix)\n",
        "fig, ax = plt.subplots()\n",
        "disp.plot(ax=ax, cmap='Blues')\n",
        "\n",
        "# Ajustando para um visual mais claro\n",
        "plt.title(\"Matriz de Confusão RandomForest 4.0\")\n",
        "plt.show()"
      ],
      "metadata": {
        "colab": {
          "base_uri": "https://localhost:8080/",
          "height": 472
        },
        "id": "GJVh5fN0fbtk",
        "outputId": "49f06967-4356-4344-f2c8-e66dcba0479a"
      },
      "execution_count": null,
      "outputs": [
        {
          "output_type": "display_data",
          "data": {
            "text/plain": [
              "<Figure size 640x480 with 2 Axes>"
            ],
            "image/png": "[encoded data removed]"
          },
          "metadata": {}
        }
      ]
    },
    {
      "cell_type": "markdown",
      "source": [
        "#### Segundo Treinamento\n",
        "\n",
        "1.   Boa avaliação: **maior ou igual a nota 3.5**\n",
        "2.   Má avaliação: **menor que 3.5**\n",
        "\n"
      ],
      "metadata": {
        "id": "0D9ebLwUd_St"
      }
    },
    {
      "cell_type": "code",
      "source": [
        "binarizer = Binarizer(threshold=3.5)\n",
        "y_binary = binarizer.fit_transform(y.values.reshape(-1, 1)).ravel()\n",
        "print(y_binary)\n",
        "\n",
        "X_train, X_test, y_train, y_test = train_test_split(X, y_binary, test_size=0.2, random_state=42)\n",
        "rf_classifier = RandomForestClassifier(n_estimators=100, random_state=42)\n",
        "\n",
        "rf_classifier.fit(X_train, y_train)\n",
        "\n",
        "y_pred = rf_classifier.predict(X_test)\n",
        "\n",
        "# Avaliar o desempenho do modelo, relatório de classificação e matriz de confusão.\n",
        "accuracy = accuracy_score(y_test, y_pred)\n",
        "print(f\"Acurácia do modelo: {accuracy:.2f}\")\n",
        "print(\"\\nRelatório de Classificação:\\n\", classification_report(y_test, y_pred))\n",
        "print(\"\\nMatriz de Confusão:\\n\", confusion_matrix(y_test, y_pred))"
      ],
      "metadata": {
        "colab": {
          "base_uri": "https://localhost:8080/"
        },
        "id": "rgVMByFZd4N1",
        "outputId": "8cd4bf89-954a-4464-e0c5-de304f8e73f8"
      },
      "execution_count": null,
      "outputs": [
        {
          "output_type": "stream",
          "name": "stdout",
          "text": [
            "[1. 1. 1. ... 1. 1. 1.]\n",
            "Acurácia do modelo: 0.88\n",
            "\n",
            "Relatório de Classificação:\n",
            "               precision    recall  f1-score   support\n",
            "\n",
            "         0.0       0.63      0.12      0.21      2043\n",
            "         1.0       0.89      0.99      0.94     14768\n",
            "\n",
            "    accuracy                           0.88     16811\n",
            "   macro avg       0.76      0.56      0.57     16811\n",
            "weighted avg       0.86      0.88      0.85     16811\n",
            "\n",
            "\n",
            "Matriz de Confusão:\n",
            " [[  251  1792]\n",
            " [  148 14620]]\n"
          ]
        }
      ]
    },
    {
      "cell_type": "code",
      "source": [
        "matrix = confusion_matrix(y_test, y_pred)\n",
        "\n",
        "disp = ConfusionMatrixDisplay(confusion_matrix=matrix)\n",
        "fig, ax = plt.subplots()\n",
        "disp.plot(ax=ax, cmap='Oranges')\n",
        "\n",
        "# Ajustando para um visual mais claro\n",
        "plt.title(\"Matriz de Confusão RandomForest 3.5\")\n",
        "plt.show()"
      ],
      "metadata": {
        "colab": {
          "base_uri": "https://localhost:8080/",
          "height": 472
        },
        "id": "gAof-pKrfFBW",
        "outputId": "2710af3a-12f0-4265-d01e-ae7d3104b2c5"
      },
      "execution_count": null,
      "outputs": [
        {
          "output_type": "display_data",
          "data": {
            "text/plain": [
              "<Figure size 640x480 with 2 Axes>"
            ],
            "image/png": "[encoded data removed]"
          },
          "metadata": {}
        }
      ]
    },
    {
      "cell_type": "markdown",
      "source": [
        "### Avaliação do Modelo"
      ],
      "metadata": {
        "id": "7HYE0gZng6Kx"
      }
    },
    {
      "cell_type": "markdown",
      "source": [
        "Os resultados do RandomForest exemplificam algo bastante interessante. O primeiro treinamento, com Binarização na >= 4.0, gerou os seguintes resultados:"
      ],
      "metadata": {
        "id": "UEepSySW1moj"
      }
    },
    {
      "cell_type": "markdown",
      "source": [
        "Na primeira execução, ele obteve em torno de 70% na determinação da classe 0 e classe 1, porém a capacidade de identificar corretamente a classe para as boas avaliações foi de 52%, enquanto as de má avaliação foi 86%. O F1 score da classe 0 foi satisfatoriamente 80%, diferente da classe 1, que foi exatamente 60%"
      ],
      "metadata": {
        "id": "taVuMmtp6hX8"
      }
    },
    {
      "cell_type": "markdown",
      "source": [
        "  ![RF1](https://i.imgur.com/qect68a.png)\n"
      ],
      "metadata": {
        "id": "KfLZHnOz7gUr"
      }
    },
    {
      "cell_type": "markdown",
      "source": [
        "Abrangentemente falando, o treino consegue uma boa precisão, mas ainda demonstra certa confusão para identificar livros com boa avaliação corretamente, resultando num aumento de **Falsos Negativos** (previu que não é, mas na verdade é de boa avaliação).\n",
        "\n",
        "*   Verdadeiros Negativos: 8937\n",
        "*   Falsos Positivos: 1443\n",
        "*   Falsos Negativos: 3082\n",
        "*   Verdadeiros Positivos: 3349"
      ],
      "metadata": {
        "id": "FavtckXI-xRE"
      }
    },
    {
      "cell_type": "markdown",
      "source": [
        "De forma geral, o primeiro treino já demonstra métricas razoávelmente boas."
      ],
      "metadata": {
        "id": "JtzZcOBs7iVi"
      }
    },
    {
      "cell_type": "markdown",
      "source": [
        "\n",
        "\n",
        "---\n",
        "\n"
      ],
      "metadata": {
        "id": "JNOodJw27tdq"
      }
    },
    {
      "cell_type": "markdown",
      "source": [
        "No segundo treino, onde o parâmetro de boa avaliação foi ajustado para >= 3.5, o RandomForest de forma geral possuiu:\n",
        "\n",
        "\n",
        "*   88% de acurácia\n",
        "*   89% de precisão\n",
        "*   99% de recall\n",
        "*   93% de F1-score\n",
        "\n",
        "As métricas de forma geral foram muito satisfatórias, pois conseguiu prever a maioria dos livros de boa avaliação. Vale ressaltar que conforme visto na Análise Exploratória Adicional, boa parte dos dados são notas acima de 3.5, o que explica esse aglomerado de **Verdadeiros Positivos**.\n",
        "\n",
        "\n",
        "\n",
        "*   Verdadeiros Negativos: 251\n",
        "*   Falsos Positivos: 1792\n",
        "*   Falsos Negativos: 148\n",
        "*   Verdadeiros Positivos: 14620\n",
        "\n",
        "\n",
        "\n"
      ],
      "metadata": {
        "id": "Kz9Heu0475GL"
      }
    },
    {
      "cell_type": "markdown",
      "source": [
        "  ![RF2](https://i.imgur.com/FWAxoM3.png)\n"
      ],
      "metadata": {
        "id": "Jrwg2vma8tVg"
      }
    },
    {
      "cell_type": "markdown",
      "source": [
        "As medidas de classes mostram que o algoritmo não teve dificuldades para determinar que o livro possuia boa avaliação."
      ],
      "metadata": {
        "id": "erISivWB8utQ"
      }
    },
    {
      "cell_type": "markdown",
      "source": [
        "  ![ComparativoGeral](https://i.imgur.com/iH5Tthd.png)\n"
      ],
      "metadata": {
        "id": "VjKPCuziZZr2"
      }
    },
    {
      "cell_type": "markdown",
      "source": [
        "  ![ComparativoGeral](https://i.imgur.com/4hRxPNj.png)\n"
      ],
      "metadata": {
        "id": "zIFH9GuSZZ-H"
      }
    },
    {
      "cell_type": "markdown",
      "source": [
        "#### Comparação com Regressão Logística"
      ],
      "metadata": {
        "id": "ZElHHv3_9AuD"
      }
    },
    {
      "cell_type": "markdown",
      "source": [
        "Nas tabelas abaixo é disponibilizado um panorama geral comparativo do treinamento de Regressão Logística e Random Forest.\n",
        "\n",
        "\n",
        "*   Comparação quando a boa avaliação é maior ou igual a 4\n",
        "*   Comparação quando a boa avaliação é maior ou igual a 3.5\n",
        "\n"
      ],
      "metadata": {
        "id": "oQ96XhTk_zcc"
      }
    },
    {
      "cell_type": "markdown",
      "source": [
        "  ![ComparativoGeral](https://i.imgur.com/2IYhl0t.png)\n"
      ],
      "metadata": {
        "id": "wPHgirw8AM6m"
      }
    },
    {
      "cell_type": "markdown",
      "source": [
        "  ![ComparativoGeral](https://i.imgur.com/9sOKluz.png)\n"
      ],
      "metadata": {
        "id": "3j3hhYJ8ZRlv"
      }
    },
    {
      "cell_type": "markdown",
      "source": [
        "O RF contra a Regessão Logística na primeira tabela comprova que a aplicação do modelo é mais assertiva quando tenta-se prever uma boa avaliação quando o parâmetro rating é 4, resultando em métricas melhores e quantidade de predições maior."
      ],
      "metadata": {
        "id": "AjQnvN9-AOcJ"
      }
    },
    {
      "cell_type": "markdown",
      "source": [
        "Na segunda comparação, os modelos possuem resultados bem próximos, diferenciando apenas 1% na acurácia e precisão."
      ],
      "metadata": {
        "id": "ELiM35dmA00M"
      }
    },
    {
      "cell_type": "markdown",
      "source": [
        "**Portanto, para previsão onde o parâmetro de boa nota é 4, o RandomForest se torna mais viável.**\n",
        "\n",
        "---\n",
        "\n",
        "**Caso o parâmetro de boa nota seja 3.5, ambos os modelos se tornam interessante em sua aplicação. Entretanto, a Regressão Logístia deve ser parametrizada com 1000 iterações (conforme Treinamento 3 na tabela de avaliação de Regressão Logística) para alcançar um resultado tão satisfatório quanto o RF.**"
      ],
      "metadata": {
        "id": "-JYeijlLBKUX"
      }
    }
  ]
}