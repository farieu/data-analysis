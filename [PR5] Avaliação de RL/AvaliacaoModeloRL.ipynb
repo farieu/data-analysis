{
  "nbformat": 4,
  "nbformat_minor": 0,
  "metadata": {
    "colab": {
      "provenance": [],
      "authorship_tag": "ABX9TyOLLMthh8Wv2VvrBiFY9yXf",
      "include_colab_link": true
    },
    "kernelspec": {
      "name": "python3",
      "display_name": "Python 3"
    },
    "language_info": {
      "name": "python"
    }
  },
  "cells": [
    {
      "cell_type": "markdown",
      "metadata": {
        "id": "view-in-github",
        "colab_type": "text"
      },
      "source": [
        "<a href=\"https://colab.research.google.com/github/farieu/data-analysis/blob/AvaliacaoModeloRL/AvaliacaoModeloRL.ipynb\" target=\"_parent\"><img src=\"https://colab.research.google.com/assets/colab-badge.svg\" alt=\"Open In Colab\"/></a>"
      ]
    },
    {
      "cell_type": "markdown",
      "source": [
        "# Avaliação da Regressão Logística"
      ],
      "metadata": {
        "id": "JGZ-lB1HSuW6"
      }
    },
    {
      "cell_type": "markdown",
      "source": [
        "### Métricas obtidas pelo treinamento"
      ],
      "metadata": {
        "id": "0Tl-SQHSSyP3"
      }
    },
    {
      "cell_type": "markdown",
      "source": [
        "Antes de interpretar os resultados do modelo de Regressão Logística, precisamos entender o que as saídas simbolizam:\n",
        "\n",
        "\n",
        "\n",
        "1.   Linha **0.0**: Contém métricas para a classe com valor 0, ou seja, o desempenho ao classificar instâncias que pertecem a classe de má avaliação (conforme a Binarização).\n",
        "2.   Linha **1.0**: Métricas para a classe com valor 1 do modelo, que é representado pelas boas avaliações que são acima de 4.\n",
        "\n",
        "\n",
        "\n",
        "---\n",
        "\n",
        "\n",
        "\n",
        "\n",
        "*   **Acurácia (accuracy)**: mede a porcentagem de previsões corretas em relação ao total de previsões.\n",
        "*   **Precisão (precision)**: proporção de previsões positivas que estavam corretas.\n",
        "*   **Sensibilidade (recall)**: insâncias positivas que foram corretamente identificadas.\n",
        "*   **F1-Score**: média harmônica entre precisão e recall.\n",
        "\n",
        "\n",
        "**Essas métricas são para aquelas classes do modelo. Para as métricas de forma geral, o cálculo pode ser feito pela matriz de confusão.**\n",
        "\n"
      ],
      "metadata": {
        "id": "oYdJLC_-oXn5"
      }
    },
    {
      "cell_type": "markdown",
      "source": [
        "---\n",
        "\n",
        "A matriz de confusão que é plotada pelo **Sklearn** se comporta da seguinte maneira:\n",
        "\n",
        "  ![RL2](https://i.imgur.com/mZtiiD3.png)\n",
        "\n",
        "\n",
        "  O que conta para **ACERTOS** do modelo é o quadrando TN e TP (Verdadeiros Negativos e Verdadeiros Positivos).\n",
        "\n",
        "  As demais (FN e FP) são colunas de erro."
      ],
      "metadata": {
        "id": "KA3CEcDoz7dF"
      }
    },
    {
      "cell_type": "markdown",
      "source": [
        "### Primeiro Treinamento"
      ],
      "metadata": {
        "id": "vMrDjLiCpHSd"
      }
    },
    {
      "cell_type": "markdown",
      "source": [
        "\n",
        "  ![RL1](https://i.imgur.com/IbedESf.png)\n",
        "\n"
      ],
      "metadata": {
        "id": "hXOz9M4YS6bP"
      }
    },
    {
      "cell_type": "markdown",
      "source": [
        "No primeiro treinamento, com os parâmetros de iteração no *default* (100) e a binarização dos reviews em:\n",
        "\n",
        "\n",
        "*   0, caso o rating seja < 4,0\n",
        "*   1, caso o rating seja >= 4,0\n",
        "\n",
        "Para a classe 0, de forma geral, o modelo consegue identificar corretamente livros e prevendo que são mal avaliados.\n",
        "\n",
        "Ao contrário da classe 1, que apesar de possuir boa precisão, só identifica 9% de livros com boa avaliação corretamente, demonstrando dificuldade em identificar os casos.\n",
        "\n",
        "---\n",
        "\n",
        "*    A matriz de confusão gera que 10027 instâncias da classe 0 foram corretamente identificadas como classe 0. (verdadeiros negativos)\n",
        "*   353 instâncias da classe 0 incorretamente classificadas como classe 1 (falsos positivos)\n",
        "*   575 instâncias da classe 1 foram corretamente classificadas (verdadeiros positivos)\n",
        "*   5856 instâncias da classe 1 foram incorretamente classificadas como classe 0. (falso negativo)"
      ],
      "metadata": {
        "id": "pEqltHabuStn"
      }
    },
    {
      "cell_type": "markdown",
      "source": [
        "### Segundo Treinamento"
      ],
      "metadata": {
        "id": "XP40QAIrpLBn"
      }
    },
    {
      "cell_type": "markdown",
      "source": [
        "\n",
        "  ![RL2](https://i.imgur.com/6WWGvyO.png)\n"
      ],
      "metadata": {
        "id": "08utenjkTzhk"
      }
    },
    {
      "cell_type": "markdown",
      "source": [
        "O segundo treinamento recebe como parâmetro de iteração o valor 500, e a forma de distribuição igual ao do primeiro modelo.\n",
        "\n",
        "Para a classe 0, de forma geral, o modelo não demonstra dificuldade para identificar.\n",
        "\n",
        "A classe 1 segue com o mesmo problema, apesar da boa precisão, somente uma parte de livros foi identificado corretamente, mas já demonstra avanço (de 9% para 35%), e o F1-Score mostra que o modelo teve melhor desempenho que o primeiro, mas ainda não é o ideal.\n",
        "\n",
        "---\n",
        "\n",
        "*   Verdadeiros Negativos: 8967\n",
        "*   Falsos Positivos: 1413\n",
        "*   Falsos Negativos: 4173\n",
        "*   Verdadeiros Positivos: 2258"
      ],
      "metadata": {
        "id": "84zTLyHNvxBq"
      }
    },
    {
      "cell_type": "markdown",
      "source": [
        "### Terceiro Treinamento"
      ],
      "metadata": {
        "id": "O8PhBIHKpPYl"
      }
    },
    {
      "cell_type": "markdown",
      "source": [
        "\n",
        "![RL3](https://i.imgur.com/OZ8izoc.png)\n"
      ],
      "metadata": {
        "id": "GqXSY3f2juoY"
      }
    },
    {
      "cell_type": "markdown",
      "source": [
        "O terceiro treinamento recebe como parâmetro de iteração o valor 1000, e a forma de distribuição igual as anteriores.\n",
        "\n",
        "Na classe 0, 69% das previsões estavam corretas, e o modelo identificou corretamente 86% dos livros com má avaliação, ao mesmo tempo que o F1 ficou bem equilibrado, com 77%.\n",
        "\n",
        "Contudo, a classe 1 demonstrou bastante melhoria, das previsões feitas como \"boa avaliação\", 88% estavam corretas, além do recall estar em 100%, implicando que nenhum livro bem avaliado foi incorretamente classificado como \"má avaliação\", e a média harmônica beirou os 94%, indicando ótimo equilibrio.\n",
        "\n",
        "a classe 1 permanece na faixa dos 62% na taxa de previsão, recall em 37% indicando que ainda apresenta dificuldade em reconhecer corretamente casos positivos, e F1 relativamente baixo, beirando os 46%.\n",
        "\n",
        "---\n",
        "\n",
        "*   Verdadeiros Negativos: 8948\n",
        "*   Falsos Positivos: 1432\n",
        "*   Falsos Negativos: 4065\n",
        "*   Verdadeiros Positivos: 2366"
      ],
      "metadata": {
        "id": "9RAVmad-3YZ9"
      }
    },
    {
      "cell_type": "markdown",
      "source": [
        "### Quarto Treinamento"
      ],
      "metadata": {
        "id": "ghlvn-7upRtJ"
      }
    },
    {
      "cell_type": "markdown",
      "source": [
        "\n",
        "![RL4](https://i.imgur.com/ShG3gxj.png)"
      ],
      "metadata": {
        "id": "lRkFtkDgnOHz"
      }
    },
    {
      "cell_type": "markdown",
      "source": [
        "Por fim, o quarto e último teste altera praticamente todos os parâmetros, ficando com:\n",
        "\n",
        "*   0, caso o rating seja < 3,5\n",
        "*   1, caso o rating seja >= 3,5\n",
        "*   Quantidade de iterações: 1000\n",
        "\n",
        "A classe de má avaliação reduziu sua taxa para 52% de precisão, 3% de recall (identificações corretas) e 5% no F1. O somatório dessas métricas demonstra uma piora no modelo para prever livros com \"má avaliação\".\n",
        "\n",
        "Contudo, a classe de boa avaliação melhorou bastante. Com 88% de previsão, 100% de recalls corretos e 94% de F1-score, o modelo passou a identificar melhor as chances de um livro receber melhor avaliação.\n",
        "\n",
        "\n",
        "---\n",
        "\n",
        "*   Verdadeiros Negativos: 53\n",
        "*   Falsos Positivos: 1990\n",
        "*   Falsos Negativos: 48\n",
        "*   Verdadeiros Positivos: 14720"
      ],
      "metadata": {
        "id": "TI7h7xNb4Z3H"
      }
    },
    {
      "cell_type": "markdown",
      "source": [
        "### Comparação entre treinamentos [de forma geral]."
      ],
      "metadata": {
        "id": "YUK0phINUO8Q"
      }
    },
    {
      "cell_type": "markdown",
      "source": [
        "  ![TABELA](https://i.imgur.com/qoOwJJm.png)\n"
      ],
      "metadata": {
        "id": "RfLKrY85pW_s"
      }
    },
    {
      "cell_type": "markdown",
      "source": [
        "  ![TABELA](https://i.imgur.com/He2dqpB.png)\n"
      ],
      "metadata": {
        "id": "Fpu8i6RlAwo3"
      }
    },
    {
      "cell_type": "markdown",
      "source": [
        "Na tabela acima é exibida um panorama geral de todos os treinamentos e suas métricas, na primeira sendo de forma GERAL do treinamento, e a segunda tabela segmentando as métricas por classe. Com isso, pode-se aferir que:\n",
        "\n",
        "1. Foi realizado processo gradativo de evolução do modelo ao longo dos treinamentos, especialmente no que diz respeito à capacidade de prever corretamente os livros com boas avaliações (classe 1). No início, o modelo apresentava baixa capacidade de recall para a classe positiva, indicando que a maioria dos livros bem avaliados não estava sendo identificada corretamente.\n",
        "2. Com os ajustes e incrementos nas iterações, houve uma melhora consistente na precisão e recall, resultando em um aumento significativo no F1-score da Classe 1, entretanto, houve uma queda muito grande nas métricas da classe 0.\n",
        "\n",
        "\n",
        "De forma geral, pode-se afirmar que os podem classificando corretamente as classes de interesse (prever que o livro irá ter uma boa avaliação), mas também ficando alerta para as métricas do 4 modelo, pois pode acabar prevendo de forma predominante uma única classe\n",
        "(característica de desbalanceamento).\n",
        "\n"
      ],
      "metadata": {
        "id": "u0ojDoU4pyfp"
      }
    },
    {
      "cell_type": "markdown",
      "source": [
        "\n",
        "\n",
        "---\n",
        "Dessa forma, os modelos que fornecem as métricas mais aceitáveis para o conjunto de treino 4, apesar de apontar um possível desbalanceamento. E essa visualização também permitiu verificar que uma única métrica não dita o modelo, e sim o conjunto e a harmonia entre elas, pois se fossemos olhar somente acurácia.\n"
      ],
      "metadata": {
        "id": "p8JHdyZzqkf9"
      }
    }
  ]
}