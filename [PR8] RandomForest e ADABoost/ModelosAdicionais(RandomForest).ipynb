{
  "nbformat": 4,
  "nbformat_minor": 0,
  "metadata": {
    "colab": {
      "provenance": [],
      "mount_file_id": "1tVdtmKMEm8R1EAOEsTBzy3VJfmXvUbKP",
      "authorship_tag": "ABX9TyOVvV6c5Rb2Y9wURN4EXa6q",
      "include_colab_link": true
    },
    "kernelspec": {
      "name": "python3",
      "display_name": "Python 3"
    },
    "language_info": {
      "name": "python"
    }
  },
  "cells": [
    {
      "cell_type": "markdown",
      "metadata": {
        "id": "view-in-github",
        "colab_type": "text"
      },
      "source": [
        "<a href=\"https://colab.research.google.com/github/farieu/data-analysis/blob/OutrosModelos/ModelosAdicionais(RandomForest).ipynb\" target=\"_parent\"><img src=\"https://colab.research.google.com/assets/colab-badge.svg\" alt=\"Open In Colab\"/></a>"
      ]
    },
    {
      "cell_type": "markdown",
      "source": [
        "# RandomForest"
      ],
      "metadata": {
        "id": "VDqIDEqR5eoT"
      }
    },
    {
      "cell_type": "markdown",
      "source": [
        "#### Importação de Bibliotecas e Processamento"
      ],
      "metadata": {
        "id": "5PKkV42I768f"
      }
    },
    {
      "cell_type": "code",
      "source": [
        "import pandas as pd\n",
        "from sklearn.model_selection import train_test_split\n",
        "from sklearn.pipeline import Pipeline\n",
        "from sklearn.compose import ColumnTransformer\n",
        "from sklearn.preprocessing import StandardScaler, LabelEncoder, MultiLabelBinarizer, FunctionTransformer, OneHotEncoder, Binarizer\n",
        "from sklearn.impute import SimpleImputer\n",
        "from sklearn.ensemble import RandomForestClassifier\n",
        "from sklearn.metrics import accuracy_score, classification_report, confusion_matrix\n",
        "import numpy as np"
      ],
      "metadata": {
        "id": "Mput2DQH7_EI"
      },
      "execution_count": 1,
      "outputs": []
    },
    {
      "cell_type": "code",
      "source": [
        "df = pd.read_csv('/content/drive/MyDrive/BackEnd/GoodReads_100k_books.csv')"
      ],
      "metadata": {
        "id": "PAM6CgDR8Aog"
      },
      "execution_count": 2,
      "outputs": []
    },
    {
      "cell_type": "markdown",
      "source": [
        "Etapa da tentativa de realização de um [Pipeline](https://github.com/farieu/data-analysis/tree/Pipeline)."
      ],
      "metadata": {
        "id": "3Bx5gcTY7qoo"
      }
    },
    {
      "cell_type": "code",
      "source": [
        "df.dropna(subset=['title', 'desc', 'genre', 'bookformat'], inplace=True)\n",
        "\n",
        "numeric_features = ['pages', 'totalratings', 'reviews']\n",
        "categorical_features = ['author', 'bookformat', 'genre', 'title']\n",
        "\n",
        "numeric_transformer = Pipeline(steps=[\n",
        "    ('imputer', SimpleImputer(strategy='median')),\n",
        "    ('scaler', StandardScaler())\n",
        "])\n",
        "\n",
        "categorical_transformer = Pipeline(steps=[\n",
        "    ('imputer', SimpleImputer(strategy='most_frequent')),\n",
        "    ('onehot', OneHotEncoder(handle_unknown='ignore'))\n",
        "])\n",
        "\n",
        "preprocessor = ColumnTransformer(\n",
        "    transformers=[\n",
        "        ('num', numeric_transformer, numeric_features),\n",
        "        ('cat', categorical_transformer, categorical_features)\n",
        "    ]\n",
        ")\n",
        "\n",
        "pipeline = Pipeline(steps=[\n",
        "    ('preprocessor', preprocessor)\n",
        "])\n",
        "\n",
        "\n",
        "X = df.drop(columns=['rating', 'desc', 'isbn', 'isbn13', 'img', 'link'])\n",
        "y = df['rating']"
      ],
      "metadata": {
        "id": "uQBchwJdtIbL"
      },
      "execution_count": 3,
      "outputs": []
    },
    {
      "cell_type": "markdown",
      "source": [
        "Como foi percebido durante os treinamentos com Regressão Logística, optei por binarizar a partir do 3.5, portanto:\n",
        "\n",
        "\n",
        "*   Notas abaixo de 3.5, serão binarizadas e atríbuidas a classe 0.\n",
        "*   Notas igual ou acima de 3.5 serão binarizadas para a classe 1.\n",
        "\n"
      ],
      "metadata": {
        "id": "NKCrwIFt8OdP"
      }
    },
    {
      "cell_type": "code",
      "source": [
        "binarizer = Binarizer(threshold=3.5)\n",
        "y_binary = binarizer.fit_transform(y.values.reshape(-1, 1)).ravel()\n",
        "\n",
        "df_preprocessed = pipeline.fit_transform(X)\n",
        "\n",
        "df_preprocessed_df = pd.DataFrame(df_preprocessed.toarray() if isinstance(df_preprocessed, np.ndarray) else df_preprocessed)"
      ],
      "metadata": {
        "id": "iSBfX7tu8NXj"
      },
      "execution_count": 4,
      "outputs": []
    },
    {
      "cell_type": "markdown",
      "source": [
        "Separação do conjunto de treino e de teste (80% treino e 20% teste)."
      ],
      "metadata": {
        "id": "f2S3Qvfk8iZp"
      }
    },
    {
      "cell_type": "code",
      "source": [
        "X_train, X_test, y_train, y_test = train_test_split(df_preprocessed, y_binary, test_size=0.2, random_state=42)"
      ],
      "metadata": {
        "id": "Z2W36JXZ8nhj"
      },
      "execution_count": 5,
      "outputs": []
    },
    {
      "cell_type": "markdown",
      "source": [
        "#### Treinamento do Random Forest"
      ],
      "metadata": {
        "id": "f_KaDZYl8zyg"
      }
    },
    {
      "cell_type": "markdown",
      "source": [
        "Instanciamento do Random Forest, treinamento e avaliação do modelo."
      ],
      "metadata": {
        "id": "r8kRiAys85VQ"
      }
    },
    {
      "cell_type": "code",
      "source": [
        "rf_classifier = RandomForestClassifier(n_estimators=100, random_state=42)\n",
        "\n",
        "rf_classifier.fit(X_train, y_train)\n",
        "\n",
        "y_pred = rf_classifier.predict(X_test)\n",
        "\n",
        "# Avaliar o desempenho do modelo, relatório de classificação e matriz de confusão.\n",
        "accuracy = accuracy_score(y_test, y_pred)\n",
        "print(f\"Acurácia do modelo: {accuracy:.2f}\")\n",
        "print(\"\\nRelatório de Classificação:\\n\", classification_report(y_test, y_pred))\n",
        "print(\"\\nMatriz de Confusão:\\n\", confusion_matrix(y_test, y_pred))"
      ],
      "metadata": {
        "colab": {
          "base_uri": "https://localhost:8080/"
        },
        "id": "p1i6j0El8tO6",
        "outputId": "7b02a1f5-d6cf-418d-d556-53f2cd89e014"
      },
      "execution_count": 6,
      "outputs": [
        {
          "output_type": "stream",
          "name": "stdout",
          "text": [
            "Acurácia do modelo: 0.88\n",
            "\n",
            "Relatório de Classificação:\n",
            "               precision    recall  f1-score   support\n",
            "\n",
            "         0.0       0.84      0.04      0.07      2043\n",
            "         1.0       0.88      1.00      0.94     14768\n",
            "\n",
            "    accuracy                           0.88     16811\n",
            "   macro avg       0.86      0.52      0.50     16811\n",
            "weighted avg       0.88      0.88      0.83     16811\n",
            "\n",
            "\n",
            "Matriz de Confusão:\n",
            " [[   76  1967]\n",
            " [   15 14753]]\n"
          ]
        }
      ]
    },
    {
      "cell_type": "markdown",
      "source": [
        "O resultado do modelo Random Forest, quando comparado ao modelo de [Regressão Linear](https://github.com/farieu/data-analysis/blob/AvaliacaoModeloRL/AvaliacaoModeloRL.ipynb), apresenta resultados interessantes.\n",
        "\n",
        "\n",
        "---\n",
        "\n",
        "De forma geral, o modelo apresenta alta acurácia, de 88%, mas as métricas para cada classe mostram um problema significativo na identificação de livros com má avaliação (classe 0).\n",
        "\n",
        "O recall da classe 0 é MUITO baixo, indicando que o modelo não consegue identificar a maioria de má avaliação, classificando-os erroneamente como \"boa avaliação\". Esse comportamento é evidênciado pela quantidade alta de **falsos positivos (1967)**, o que mostra um viés do modelo em favor da classe 1.\n"
      ],
      "metadata": {
        "id": "VdIsLu5sHVac"
      }
    },
    {
      "cell_type": "markdown",
      "source": [
        "Entretanto, para a classe de boa avaliação, o modelo consegue identificar corretamente todas as instâncias, sem deixar nenhum livro bem avaliado passar despercebido. Isso também é perceptível pelo F1-Score de 94%.\n",
        "\n",
        "---\n",
        "\n",
        "O modelo demonstrou similaridade com o **Treinamento 4** de Regressão Logística, o que sugere um possível desbalanceamento das classes, sendo necessário ajustes futuros no modelo."
      ],
      "metadata": {
        "id": "GLXlMtzwIsGy"
      }
    }
  ]
}